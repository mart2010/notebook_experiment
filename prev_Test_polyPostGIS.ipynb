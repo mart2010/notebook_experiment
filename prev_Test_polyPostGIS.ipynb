{
 "metadata": {
  "name": ""
 },
 "nbformat": 3,
 "nbformat_minor": 0,
 "worksheets": [
  {
   "cells": [
    {
     "cell_type": "markdown",
     "metadata": {},
     "source": [
      "The following leverage extension *sql* magic instead of interacting directly with psycopg2 "
     ]
    },
    {
     "cell_type": "code",
     "collapsed": true,
     "input": [
      "%load_ext sql"
     ],
     "language": "python",
     "metadata": {},
     "outputs": [
      {
       "output_type": "stream",
       "stream": "stdout",
       "text": [
        "The sql extension is already loaded. To reload it, use:\n",
        "  %reload_ext sql\n"
       ]
      }
     ],
     "prompt_number": 4
    },
    {
     "cell_type": "code",
     "collapsed": true,
     "input": [
      "%sql postgresql://pspat@bbpdbsrv03/pspat"
     ],
     "language": "python",
     "metadata": {},
     "outputs": [
      {
       "metadata": {},
       "output_type": "pyout",
       "prompt_number": 6,
       "text": [
        "u'Connected: pspat@pspat'"
       ]
      }
     ],
     "prompt_number": 6
    },
    {
     "cell_type": "markdown",
     "metadata": {},
     "source": [
      "Data loading strategy for brain region and neuron (3D box)\n",
      "==========================================================\n",
      "\n",
      "* Data access object layer (DAO java-code) provides a method to convert input coordinate of opposite corners (lower-left, upper-right) into the WKT string (see an ex. 'objAsWKT' below)\n",
      "* The DAO insert method load Polyhedral cube using ST_GeomFromEWKT(%cube) by passing the string conversion (see insertSQL)\n",
      "* possible methods overloaded possible to take alternative input: extreme corner, centroid and size\n"
     ]
    },
    {
     "cell_type": "code",
     "collapsed": false,
     "input": [
      "def objAsWKT(minCoord, maxCoord):\n",
      "    \"\"\" minCoord: tupple for min coordinates of 3D box\n",
      "        maxCoord: tupple for max coordinates of 3D box\n",
      "    \"\"\"\n",
      "    xmin = str(minCoord[0]) + \" \"\n",
      "    ymin = str(minCoord[1]) + \" \"\n",
      "    zmin = str(minCoord[2]) + \" \"\n",
      "    xmax = str(maxCoord[0]) + \" \"\n",
      "    ymax = str(maxCoord[1]) + \" \" \n",
      "    zmax = str(maxCoord[2]) + \" \"\n",
      "    \n",
      "    prefix = 'SRID=0; POLYHEDRALSURFACE('\n",
      "    #facets vertices counter-clockwise\n",
      "    z = '((' +xmin+ymin+zmax+','+xmax+ymin+zmax+','+xmax+ymax+zmax+','+xmin+ymax+zmax+','+xmin+ymin+zmax + ')),'\n",
      "    z_= '((' +xmax+ymin+zmin+','+xmin+ymin+zmin+','+xmin+ymax+zmin+','+xmax+ymax+zmin+','+xmax+ymin+zmin + ')),'\n",
      "    x = '((' +xmax+ymin+zmax+','+xmax+ymin+zmin+','+xmax+ymax+zmin+','+xmax+ymax+zmax+','+xmax+ymin+zmax + ')),'\n",
      "    x_= '((' +xmin+ymin+zmin+','+xmin+ymin+zmax+','+xmin+ymax+zmax+','+xmin+ymax+zmin+','+xmin+ymin+zmin + ')),'\n",
      "    y = '((' +xmin+ymax+zmax+','+xmax+ymax+zmax+','+xmax+ymax+zmin+','+xmin+ymax+zmin+','+xmin+ymax+zmax + ')),'\n",
      "    y_= '((' +xmin+ymin+zmin+','+xmax+ymin+zmin+','+xmax+ymin+zmax+','+xmin+ymin+zmax+','+xmin+ymin+zmin + '))'\n",
      "    postfix = \")\"\n",
      "    return prefix + z + z_ + x + x_ + y + y_ + postfix    "
     ],
     "language": "python",
     "metadata": {},
     "outputs": [],
     "prompt_number": 1
    },
    {
     "cell_type": "code",
     "collapsed": false,
     "input": [
      "cube_min = (100,100,100)\n",
      "cube_max = (200,200,200)\n",
      "wkt = objAsWKT(cube_min, cube_max)"
     ],
     "language": "python",
     "metadata": {},
     "outputs": [],
     "prompt_number": 10
    },
    {
     "cell_type": "markdown",
     "metadata": {},
     "source": [
      "**Let's insert a simple box (0,0,0),(1,1,1)**"
     ]
    },
    {
     "cell_type": "code",
     "collapsed": false,
     "input": [
      "import uuid\n",
      "objectWKT = objAsWKT((0,0,0),(1,1,1))\n",
      "uuid = uuid.uuid4()"
     ],
     "language": "python",
     "metadata": {},
     "outputs": [],
     "prompt_number": 10
    },
    {
     "cell_type": "code",
     "collapsed": false,
     "input": [
      "%%sql \n",
      "INSERT INTO atlas.brain_object(entity_uuid,\n",
      "                               name,\n",
      "                               resolution_x,\n",
      "                               resolution_y,\n",
      "                               resolution_z,\n",
      "                               create_date,\n",
      "                               update_date,\n",
      "                               obj_geom) \n",
      "VALUES(:uuid,\n",
      "       'cubeTest',\n",
      "       0.1,\n",
      "       0.1,\n",
      "       0.1,\n",
      "       now(),\n",
      "       now(),\n",
      "       ST_GeomFromEWKT(:objectWKT));"
     ],
     "language": "python",
     "metadata": {},
     "outputs": [
      {
       "output_type": "stream",
       "stream": "stdout",
       "text": [
        "1 rows affected.\n"
       ]
      },
      {
       "metadata": {},
       "output_type": "pyout",
       "prompt_number": 15,
       "text": [
        "[]"
       ]
      }
     ],
     "prompt_number": 15
    },
    {
     "cell_type": "markdown",
     "metadata": {},
     "source": [
      "**Validate the box is correctly stored**"
     ]
    },
    {
     "cell_type": "code",
     "collapsed": false,
     "input": [
      "%%sql\n",
      "select ST_AsEWKT(obj_geom) from atlas.brain_object where name = 'cubeTest';"
     ],
     "language": "python",
     "metadata": {},
     "outputs": [
      {
       "output_type": "stream",
       "stream": "stdout",
       "text": [
        "3 rows affected.\n"
       ]
      },
      {
       "html": [
        "<table>\n",
        "    <tr>\n",
        "        <th>st_asewkt</th>\n",
        "    </tr>\n",
        "    <tr>\n",
        "        <td>POLYHEDRALSURFACE(((0 0 1,1 0 1,1 1 1,0 1 1,0 0 1)),((1 0 0,0 0 0,0 1 0,1 1 0,1 0 0)),((1 0 1,1 0 0,1 1 0,1 1 1,1 0 1)),((0 0 0,0 0 1,0 1 1,0 1 0,0 0 0)),((0 1 1,1 1 1,1 1 0,0 1 0,0 1 1)),((0 0 0,1 0 0,1 0 1,0 0 1,0 0 0)))</td>\n",
        "    </tr>\n",
        "    <tr>\n",
        "        <td>POLYHEDRALSURFACE(((0 0 1,1 0 1,1 1 1,0 1 1,0 0 1)),((1 0 0,0 0 0,0 1 0,1 1 0,1 0 0)),((1 0 1,1 0 0,1 1 0,1 1 1,1 0 1)),((0 0 0,0 0 1,0 1 1,0 1 0,0 0 0)),((0 1 1,1 1 1,1 1 0,0 1 0,0 1 1)),((0 0 0,1 0 0,1 0 1,0 0 1,0 0 0)))</td>\n",
        "    </tr>\n",
        "    <tr>\n",
        "        <td>POLYHEDRALSURFACE(((0 0 1,1 0 1,1 1 1,0 1 1,0 0 1)),((1 0 0,0 0 0,0 1 0,1 1 0,1 0 0)),((1 0 1,1 0 0,1 1 0,1 1 1,1 0 1)),((0 0 0,0 0 1,0 1 1,0 1 0,0 0 0)),((0 1 1,1 1 1,1 1 0,0 1 0,0 1 1)),((0 0 0,1 0 0,1 0 1,0 0 1,0 0 0)))</td>\n",
        "    </tr>\n",
        "</table>"
       ],
       "metadata": {},
       "output_type": "pyout",
       "prompt_number": 16,
       "text": [
        "[(u'POLYHEDRALSURFACE(((0 0 1,1 0 1,1 1 1,0 1 1,0 0 1)),((1 0 0,0 0 0,0 1 0,1 1 0,1 0 0)),((1 0 1,1 0 0,1 1 0,1 1 1,1 0 1)),((0 0 0,0 0 1,0 1 1,0 1 0,0 0 0)),((0 1 1,1 1 1,1 1 0,0 1 0,0 1 1)),((0 0 0,1 0 0,1 0 1,0 0 1,0 0 0)))',),\n",
        " (u'POLYHEDRALSURFACE(((0 0 1,1 0 1,1 1 1,0 1 1,0 0 1)),((1 0 0,0 0 0,0 1 0,1 1 0,1 0 0)),((1 0 1,1 0 0,1 1 0,1 1 1,1 0 1)),((0 0 0,0 0 1,0 1 1,0 1 0,0 0 0)),((0 1 1,1 1 1,1 1 0,0 1 0,0 1 1)),((0 0 0,1 0 0,1 0 1,0 0 1,0 0 0)))',),\n",
        " (u'POLYHEDRALSURFACE(((0 0 1,1 0 1,1 1 1,0 1 1,0 0 1)),((1 0 0,0 0 0,0 1 0,1 1 0,1 0 0)),((1 0 1,1 0 0,1 1 0,1 1 1,1 0 1)),((0 0 0,0 0 1,0 1 1,0 1 0,0 0 0)),((0 1 1,1 1 1,1 1 0,0 1 0,0 1 1)),((0 0 0,1 0 0,1 0 1,0 0 1,0 0 0)))',)]"
       ]
      }
     ],
     "prompt_number": 16
    },
    {
     "cell_type": "markdown",
     "metadata": {},
     "source": [
      "**Validate the box is closed**"
     ]
    },
    {
     "cell_type": "code",
     "collapsed": false,
     "input": [
      "%%sql \n",
      "select ST_IsClosed(obj_geom) from atlas.brain_object where name = 'cubeTest';"
     ],
     "language": "python",
     "metadata": {},
     "outputs": [
      {
       "output_type": "stream",
       "stream": "stdout",
       "text": [
        "3 rows affected.\n"
       ]
      },
      {
       "html": [
        "<table>\n",
        "    <tr>\n",
        "        <th>st_isclosed</th>\n",
        "    </tr>\n",
        "    <tr>\n",
        "        <td>True</td>\n",
        "    </tr>\n",
        "    <tr>\n",
        "        <td>True</td>\n",
        "    </tr>\n",
        "    <tr>\n",
        "        <td>True</td>\n",
        "    </tr>\n",
        "</table>"
       ],
       "metadata": {},
       "output_type": "pyout",
       "prompt_number": 17,
       "text": [
        "[(True,), (True,), (True,)]"
       ]
      }
     ],
     "prompt_number": 17
    },
    {
     "cell_type": "markdown",
     "metadata": {},
     "source": [
      "**Validates it has 6 faces**"
     ]
    },
    {
     "cell_type": "code",
     "collapsed": false,
     "input": [
      "%%sql\n",
      "select ST_numpatches(obj_geom) from atlas.brain_object where name = 'cubeTest';"
     ],
     "language": "python",
     "metadata": {},
     "outputs": [
      {
       "output_type": "stream",
       "stream": "stdout",
       "text": [
        "3 rows affected.\n"
       ]
      },
      {
       "html": [
        "<table>\n",
        "    <tr>\n",
        "        <th>st_numpatches</th>\n",
        "    </tr>\n",
        "    <tr>\n",
        "        <td>6</td>\n",
        "    </tr>\n",
        "    <tr>\n",
        "        <td>6</td>\n",
        "    </tr>\n",
        "    <tr>\n",
        "        <td>6</td>\n",
        "    </tr>\n",
        "</table>"
       ],
       "metadata": {},
       "output_type": "pyout",
       "prompt_number": 18,
       "text": [
        "[(6,), (6,), (6,)]"
       ]
      }
     ],
     "prompt_number": 18
    },
    {
     "cell_type": "markdown",
     "metadata": {},
     "source": [
      "Alternative implementation:\n",
      "---------------------------\n",
      "\n",
      "* We could develop a stored procedure that loads polyhedral cube using opposite corners passed as parameters"
     ]
    },
    {
     "cell_type": "markdown",
     "metadata": {},
     "source": [
      "Implementation of the \"NearMe\" query:\n",
      "====================================\n"
     ]
    },
    {
     "cell_type": "markdown",
     "metadata": {},
     "source": [
      "**1- DDL test set-up**"
     ]
    },
    {
     "cell_type": "code",
     "collapsed": false,
     "input": [
      "%%sql \n",
      "drop table cubes;\n",
      "create table cubes(id serial, name varchar(100));"
     ],
     "language": "python",
     "metadata": {},
     "outputs": [
      {
       "output_type": "stream",
       "stream": "stdout",
       "text": [
        "Done.\n",
        "Done.\n"
       ]
      },
      {
       "metadata": {},
       "output_type": "pyout",
       "prompt_number": 35,
       "text": [
        "[]"
       ]
      }
     ],
     "prompt_number": 35
    },
    {
     "cell_type": "code",
     "collapsed": false,
     "input": [
      "%%sql \n",
      "select AddGeometryColumn('public','cubes','obj_geom',0,'POLYHEDRALSURFACE',3);\n"
     ],
     "language": "python",
     "metadata": {},
     "outputs": [
      {
       "output_type": "stream",
       "stream": "stdout",
       "text": [
        "1 rows affected.\n"
       ]
      },
      {
       "html": [
        "<table>\n",
        "    <tr>\n",
        "        <th>addgeometrycolumn</th>\n",
        "    </tr>\n",
        "    <tr>\n",
        "        <td>public.cubes.obj_geom SRID:0 TYPE:POLYHEDRALSURFACE DIMS:3 </td>\n",
        "    </tr>\n",
        "</table>"
       ],
       "metadata": {},
       "output_type": "pyout",
       "prompt_number": 36,
       "text": [
        "[(u'public.cubes.obj_geom SRID:0 TYPE:POLYHEDRALSURFACE DIMS:3 ',)]"
       ]
      }
     ],
     "prompt_number": 36
    },
    {
     "cell_type": "code",
     "collapsed": false,
     "input": [
      "%%sql \n",
      "alter table cubes alter column obj_geom set not null;\n",
      "create index cubeindex on cubes using gist(obj_geom);"
     ],
     "language": "python",
     "metadata": {},
     "outputs": [
      {
       "output_type": "stream",
       "stream": "stdout",
       "text": [
        "Done.\n",
        "Done.\n"
       ]
      },
      {
       "metadata": {},
       "output_type": "pyout",
       "prompt_number": 37,
       "text": [
        "[]"
       ]
      }
     ],
     "prompt_number": 37
    },
    {
     "cell_type": "markdown",
     "metadata": {},
     "source": [
      "**2- Insert sample cubes data**"
     ]
    },
    {
     "cell_type": "code",
     "collapsed": false,
     "input": [
      "#see if possible to implement straight in sql using generate() PS fct... (using bulk insert would improve perf)\n",
      "import psycopg2 as ps\n",
      "from random import *\n",
      "nb_cubes = 2500000\n",
      "cube_size = 1\n",
      "crange = (0,500000)\n",
      "conn = ps.connect(host=\"bbpdbsrv03\", database=\"pspat\", user=\"pspat\")\n",
      "conn.set_isolation_level(0)\n",
      "cur = conn.cursor()\n",
      "ins = \"insert into cubes(name,obj_geom) values(%s,ST_GeomFromEWKT(%s))\"\n",
      "for i in range(nb_cubes):\n",
      "    x, y, z  = randrange(crange[0], crange[1]), randrange(crange[0], crange[1]), randrange(crange[0], crange[1])\n",
      "    name = \"cube_at coord(%d,%d,%d) of size %d\" %(x, y, z, cube_size)\n",
      "    cubewkt = objAsWKT((x,y,z),(x+cube_size,y+cube_size,z+cube_size))\n",
      "    cur.execute(ins, (name, cubewkt))\n",
      "cur.close()\n",
      "conn.close()"
     ],
     "language": "python",
     "metadata": {},
     "outputs": [],
     "prompt_number": 57
    },
    {
     "cell_type": "code",
     "collapsed": false,
     "input": [
      "%sql vacuum analyze cubes;"
     ],
     "language": "python",
     "metadata": {},
     "outputs": [
      {
       "output_type": "stream",
       "stream": "stdout",
       "text": [
        "Done.\n"
       ]
      },
      {
       "metadata": {},
       "output_type": "pyout",
       "prompt_number": 86,
       "text": [
        "[]"
       ]
      }
     ],
     "prompt_number": 86
    },
    {
     "cell_type": "markdown",
     "metadata": {},
     "source": [
      "**3- Validate query perf**"
     ]
    },
    {
     "cell_type": "markdown",
     "metadata": {},
     "source": [
      "**Simple implementation with ST_3DDWithin (making use of 'cubeindex' spatial index!)**"
     ]
    },
    {
     "cell_type": "code",
     "collapsed": false,
     "input": [
      "%%sql\n",
      "explain analyze \n",
      "select * from cubes where ST_3DDWithin(obj_geom, ST_MakePoint(25000, 25000, 25000),15000);"
     ],
     "language": "python",
     "metadata": {},
     "outputs": [
      {
       "output_type": "stream",
       "stream": "stdout",
       "text": [
        "7 rows affected.\n"
       ]
      },
      {
       "html": [
        "<table>\n",
        "    <tr>\n",
        "        <th>QUERY PLAN</th>\n",
        "    </tr>\n",
        "    <tr>\n",
        "        <td>Bitmap Heap Scan on cubes  (cost=404.22..47075.29 rows=850 width=905) (actual time=4.743..101.479 rows=337 loops=1)</td>\n",
        "    </tr>\n",
        "    <tr>\n",
        "        <td>&nbsp;&nbsp;Recheck Cond: (obj_geom &amp;&amp; '01030000800100000005000000000000000088C340000000000088C340000000000088C340000000000088C340000000000088E340000000000088C340000000000088E340000000000088E340000000000088E340000000000088E340000000000088C340000000000088E340000000000088C340000000000088C340000000000088C340'::geometry)</td>\n",
        "    </tr>\n",
        "    <tr>\n",
        "        <td>&nbsp;&nbsp;Filter: (('010100008000000000006AD84000000000006AD84000000000006AD840'::geometry &amp;&amp; st_expand(obj_geom, 15000::double precision)) AND _st_3ddwithin(obj_geom, '010100008000000000006AD84000000000006AD84000000000006AD840'::geometry, 15000::double precision))</td>\n",
        "    </tr>\n",
        "    <tr>\n",
        "        <td>&nbsp;&nbsp;Rows Removed by Filter: 10460</td>\n",
        "    </tr>\n",
        "    <tr>\n",
        "        <td>&nbsp;&nbsp;-&gt;  Bitmap Index Scan on cubeindex  (cost=0.00..404.01 rows=12746 width=0) (actual time=2.728..2.728 rows=10797 loops=1)</td>\n",
        "    </tr>\n",
        "    <tr>\n",
        "        <td>&nbsp;&nbsp;&nbsp;&nbsp;&nbsp;&nbsp;&nbsp;&nbsp;Index Cond: (obj_geom &amp;&amp; '01030000800100000005000000000000000088C340000000000088C340000000000088C340000000000088C340000000000088E340000000000088C340000000000088E340000000000088E340000000000088E340000000000088E340000000000088C340000000000088E340000000000088C340000000000088C340000000000088C340'::geometry)</td>\n",
        "    </tr>\n",
        "    <tr>\n",
        "        <td>Total runtime: 101.559 ms</td>\n",
        "    </tr>\n",
        "</table>"
       ],
       "metadata": {},
       "output_type": "pyout",
       "prompt_number": 143,
       "text": [
        "[(u'Bitmap Heap Scan on cubes  (cost=404.22..47075.29 rows=850 width=905) (actual time=4.743..101.479 rows=337 loops=1)',),\n",
        " (u\"  Recheck Cond: (obj_geom && '01030000800100000005000000000000000088C340000000000088C340000000000088C340000000000088C340000000000088E340000000000088C340000000000088E340000000000088E340000000000088E340000000000088E340000000000088C340000000000088E340000000000088C340000000000088C340000000000088C340'::geometry)\",),\n",
        " (u\"  Filter: (('010100008000000000006AD84000000000006AD84000000000006AD840'::geometry && st_expand(obj_geom, 15000::double precision)) AND _st_3ddwithin(obj_geom, '010100008000000000006AD84000000000006AD84000000000006AD840'::geometry, 15000::double precision))\",),\n",
        " (u'  Rows Removed by Filter: 10460',),\n",
        " (u'  ->  Bitmap Index Scan on cubeindex  (cost=0.00..404.01 rows=12746 width=0) (actual time=2.728..2.728 rows=10797 loops=1)',),\n",
        " (u\"        Index Cond: (obj_geom && '01030000800100000005000000000000000088C340000000000088C340000000000088C340000000000088C340000000000088E340000000000088C340000000000088E340000000000088E340000000000088E340000000000088E340000000000088C340000000000088E340000000000088C340000000000088C340000000000088C340'::geometry)\",),\n",
        " (u'Total runtime: 101.559 ms',)]"
       ]
      }
     ],
     "prompt_number": 143
    },
    {
     "cell_type": "markdown",
     "metadata": {},
     "source": [
      "**Optmized implementation with ST_3DDWithin (adding the 3dBox predicate improves perf by 4X (although Execution plan is same!)**"
     ]
    },
    {
     "cell_type": "code",
     "collapsed": false,
     "input": [
      "%%sql\n",
      "explain analyze \n",
      "select * \n",
      "from cubes where ST_3DDWithin(obj_geom, ST_MakePoint(25000, 25000, 25000),15000)\n",
      "and obj_geom &&& ST_MakeLine(ST_MakePoint(10000, 10000, 10000), ST_MakePoint(40000, 40000, 40000));"
     ],
     "language": "python",
     "metadata": {},
     "outputs": [
      {
       "output_type": "stream",
       "stream": "stdout",
       "text": [
        "7 rows affected.\n"
       ]
      },
      {
       "html": [
        "<table>\n",
        "    <tr>\n",
        "        <th>QUERY PLAN</th>\n",
        "    </tr>\n",
        "    <tr>\n",
        "        <td>Bitmap Heap Scan on cubes  (cost=404.01..47106.94 rows=1 width=905) (actual time=5.250..22.233 rows=337 loops=1)</td>\n",
        "    </tr>\n",
        "    <tr>\n",
        "        <td>&nbsp;&nbsp;Recheck Cond: (obj_geom &amp;&amp; '01030000800100000005000000000000000088C340000000000088C340000000000088C340000000000088C340000000000088E340000000000088C340000000000088E340000000000088E340000000000088E340000000000088E340000000000088C340000000000088E340000000000088C340000000000088C340000000000088C340'::geometry)</td>\n",
        "    </tr>\n",
        "    <tr>\n",
        "        <td>&nbsp;&nbsp;Filter: ((obj_geom &amp;&amp;&amp; '010200008002000000000000000088C340000000000088C340000000000088C340000000000088E340000000000088E340000000000088E340'::geometry) AND ('010100008000000000006AD84000000000006AD84000000000006AD840'::geometry &amp;&amp; st_expand(obj_geom, 15000::double precision)) AND _st_3ddwithin(obj_geom, '010100008000000000006AD84000000000006AD84000000000006AD840'::geometry, 15000::double precision))</td>\n",
        "    </tr>\n",
        "    <tr>\n",
        "        <td>&nbsp;&nbsp;Rows Removed by Filter: 10460</td>\n",
        "    </tr>\n",
        "    <tr>\n",
        "        <td>&nbsp;&nbsp;-&gt;  Bitmap Index Scan on cubeindex  (cost=0.00..404.01 rows=12746 width=0) (actual time=3.378..3.378 rows=10797 loops=1)</td>\n",
        "    </tr>\n",
        "    <tr>\n",
        "        <td>&nbsp;&nbsp;&nbsp;&nbsp;&nbsp;&nbsp;&nbsp;&nbsp;Index Cond: (obj_geom &amp;&amp; '01030000800100000005000000000000000088C340000000000088C340000000000088C340000000000088C340000000000088E340000000000088C340000000000088E340000000000088E340000000000088E340000000000088E340000000000088C340000000000088E340000000000088C340000000000088C340000000000088C340'::geometry)</td>\n",
        "    </tr>\n",
        "    <tr>\n",
        "        <td>Total runtime: 22.309 ms</td>\n",
        "    </tr>\n",
        "</table>"
       ],
       "metadata": {},
       "output_type": "pyout",
       "prompt_number": 147,
       "text": [
        "[(u'Bitmap Heap Scan on cubes  (cost=404.01..47106.94 rows=1 width=905) (actual time=5.250..22.233 rows=337 loops=1)',),\n",
        " (u\"  Recheck Cond: (obj_geom && '01030000800100000005000000000000000088C340000000000088C340000000000088C340000000000088C340000000000088E340000000000088C340000000000088E340000000000088E340000000000088E340000000000088E340000000000088C340000000000088E340000000000088C340000000000088C340000000000088C340'::geometry)\",),\n",
        " (u\"  Filter: ((obj_geom &&& '010200008002000000000000000088C340000000000088C340000000000088C340000000000088E340000000000088E340000000000088E340'::geometry) AND ('010100008000000000006AD84000000000006AD84000000000006AD840'::geometry && st_expand(obj_geom, 15000::double precision)) AND _st_3ddwithin(obj_geom, '010100008000000000006AD84000000000006AD84000000000006AD840'::geometry, 15000::double precision))\",),\n",
        " (u'  Rows Removed by Filter: 10460',),\n",
        " (u'  ->  Bitmap Index Scan on cubeindex  (cost=0.00..404.01 rows=12746 width=0) (actual time=3.378..3.378 rows=10797 loops=1)',),\n",
        " (u\"        Index Cond: (obj_geom && '01030000800100000005000000000000000088C340000000000088C340000000000088C340000000000088C340000000000088E340000000000088C340000000000088E340000000000088E340000000000088E340000000000088E340000000000088C340000000000088E340000000000088C340000000000088C340000000000088C340'::geometry)\",),\n",
        " (u'Total runtime: 22.309 ms',)]"
       ]
      }
     ],
     "prompt_number": 147
    },
    {
     "cell_type": "markdown",
     "metadata": {},
     "source": [
      "**Validate optimized query along with parameter passing**"
     ]
    },
    {
     "cell_type": "code",
     "collapsed": false,
     "input": [
      "#param-ins RefPoint and distance\n",
      "refX = 10000.0\n",
      "refY = 10000.0\n",
      "refZ = 10000.0\n",
      "distance = 5000.0\n",
      "\n",
      "#calculate 3D box extreme corners\n",
      "llx, lly, llz = refX-distance, refY-distance, refZ-distance\n",
      "urx, ury, urz = refX+distance, refY+distance, refZ+distance"
     ],
     "language": "python",
     "metadata": {},
     "outputs": [],
     "prompt_number": 65
    },
    {
     "cell_type": "code",
     "collapsed": false,
     "input": [
      "%%sql\n",
      "select  count(*) as nb_cubes\n",
      "        ,sum(case when ST_3DDWithin(obj_geom, ST_MakePoint(:refX, :refY, :refZ),:distance) then 1 else 0 end) as nb_within\n",
      "        ,sum(case when ST_3DDWithin(obj_geom, ST_MakePoint(:refX, :refY, :refZ),:distance) and\n",
      "        \t\t       (obj_geom &&& ST_MakeLine(ST_MakePoint(:llx, :lly, :llz),ST_MakePoint(:urx, :ury, :urz))) \n",
      "        \t      then 1  else 0 end) as nb_within_optimized\n",
      "from cubes;"
     ],
     "language": "python",
     "metadata": {},
     "outputs": [
      {
       "output_type": "stream",
       "stream": "stdout",
       "text": [
        "1 rows affected.\n"
       ]
      },
      {
       "html": [
        "<table>\n",
        "    <tr>\n",
        "        <th>nb_cubes</th>\n",
        "        <th>nb_within</th>\n",
        "        <th>nb_within_optimized</th>\n",
        "    </tr>\n",
        "    <tr>\n",
        "        <td>3000000</td>\n",
        "        <td>14</td>\n",
        "        <td>14</td>\n",
        "    </tr>\n",
        "</table>"
       ],
       "metadata": {},
       "output_type": "pyout",
       "prompt_number": 103,
       "text": [
        "[(3000000L, 14L, 14L)]"
       ]
      }
     ],
     "prompt_number": 103
    },
    {
     "cell_type": "markdown",
     "metadata": {},
     "source": [
      "Strategy for DAO implementation of two query types:\n",
      "---------------------------------------------------\n",
      "\n",
      "**1) Find all objects within a certain distance from a given \"RefPoint\"**\n"
     ]
    },
    {
     "cell_type": "code",
     "collapsed": false,
     "input": [
      "%%sql\n",
      "select id, name, ST_3DDistance(obj_geom, ST_MakePoint(:refX, :refY, :refZ)) as distance\n",
      "from cubes \n",
      "where ST_3DDWithin(obj_geom, ST_MakePoint(:refX, :refY, :refZ), :distance)\n",
      "and obj_geom &&& ST_MakeLine(ST_MakePoint(:llx, :lly, :llz), ST_MakePoint(:urx, :ury, :urz))\n",
      "order by distance;"
     ],
     "language": "python",
     "metadata": {},
     "outputs": [
      {
       "output_type": "stream",
       "stream": "stdout",
       "text": [
        "14 rows affected.\n"
       ]
      },
      {
       "html": [
        "<table>\n",
        "    <tr>\n",
        "        <th>id</th>\n",
        "        <th>name</th>\n",
        "        <th>distance</th>\n",
        "    </tr>\n",
        "    <tr>\n",
        "        <td>2530732</td>\n",
        "        <td>cube_at coord(10239,8529,8656) of size 1</td>\n",
        "        <td>2005.41018248</td>\n",
        "    </tr>\n",
        "    <tr>\n",
        "        <td>2403810</td>\n",
        "        <td>cube_at coord(11910,10324,10668) of size 1</td>\n",
        "        <td>2049.21936356</td>\n",
        "    </tr>\n",
        "    <tr>\n",
        "        <td>2639505</td>\n",
        "        <td>cube_at coord(9287,11797,10994) of size 1</td>\n",
        "        <td>2173.5199562</td>\n",
        "    </tr>\n",
        "    <tr>\n",
        "        <td>145072</td>\n",
        "        <td>cube_at coord(12214,8208,11046) of size 1</td>\n",
        "        <td>3033.74240831</td>\n",
        "    </tr>\n",
        "    <tr>\n",
        "        <td>2067746</td>\n",
        "        <td>cube_at coord(10067,12270,12102) of size 1</td>\n",
        "        <td>3094.47782348</td>\n",
        "    </tr>\n",
        "    <tr>\n",
        "        <td>373147</td>\n",
        "        <td>cube_at coord(10578,11066,7123) of size 1</td>\n",
        "        <td>3121.18823527</td>\n",
        "    </tr>\n",
        "    <tr>\n",
        "        <td>509827</td>\n",
        "        <td>cube_at coord(11612,9765,13176) of size 1</td>\n",
        "        <td>3569.3523222</td>\n",
        "    </tr>\n",
        "    <tr>\n",
        "        <td>2767042</td>\n",
        "        <td>cube_at coord(10038,7208,7681) of size 1</td>\n",
        "        <td>3628.25701956</td>\n",
        "    </tr>\n",
        "    <tr>\n",
        "        <td>412990</td>\n",
        "        <td>cube_at coord(6275,8550,11687) of size 1</td>\n",
        "        <td>4337.48152734</td>\n",
        "    </tr>\n",
        "    <tr>\n",
        "        <td>81049</td>\n",
        "        <td>cube_at coord(6651,10103,12998) of size 1</td>\n",
        "        <td>4495.29943385</td>\n",
        "    </tr>\n",
        "    <tr>\n",
        "        <td>1748007</td>\n",
        "        <td>cube_at coord(5337,10050,10431) of size 1</td>\n",
        "        <td>4682.14747739</td>\n",
        "    </tr>\n",
        "    <tr>\n",
        "        <td>220148</td>\n",
        "        <td>cube_at coord(13348,6591,10321) of size 1</td>\n",
        "        <td>4788.17386902</td>\n",
        "    </tr>\n",
        "    <tr>\n",
        "        <td>1446040</td>\n",
        "        <td>cube_at coord(14578,8220,10009) of size 1</td>\n",
        "        <td>4911.51768805</td>\n",
        "    </tr>\n",
        "    <tr>\n",
        "        <td>1108295</td>\n",
        "        <td>cube_at coord(10848,9832,5125) of size 1</td>\n",
        "        <td>4950.03727259</td>\n",
        "    </tr>\n",
        "</table>"
       ],
       "metadata": {},
       "output_type": "pyout",
       "prompt_number": 109,
       "text": [
        "[(2530732, u'cube_at coord(10239,8529,8656) of size 1', 2005.41018248138),\n",
        " (2403810, u'cube_at coord(11910,10324,10668) of size 1', 2049.21936356262),\n",
        " (2639505, u'cube_at coord(9287,11797,10994) of size 1', 2173.51995620008),\n",
        " (145072, u'cube_at coord(12214,8208,11046) of size 1', 3033.74240831353),\n",
        " (2067746, u'cube_at coord(10067,12270,12102) of size 1', 3094.47782347846),\n",
        " (373147, u'cube_at coord(10578,11066,7123) of size 1', 3121.18823527195),\n",
        " (509827, u'cube_at coord(11612,9765,13176) of size 1', 3569.35232220077),\n",
        " (2767042, u'cube_at coord(10038,7208,7681) of size 1', 3628.25701956187),\n",
        " (412990, u'cube_at coord(6275,8550,11687) of size 1', 4337.48152733819),\n",
        " (81049, u'cube_at coord(6651,10103,12998) of size 1', 4495.2994338531),\n",
        " (1748007, u'cube_at coord(5337,10050,10431) of size 1', 4682.14747738685),\n",
        " (220148, u'cube_at coord(13348,6591,10321) of size 1', 4788.17386902356),\n",
        " (1446040, u'cube_at coord(14578,8220,10009) of size 1', 4911.51768804715),\n",
        " (1108295, u'cube_at coord(10848,9832,5125) of size 1', 4950.03727258694)]"
       ]
      }
     ],
     "prompt_number": 109
    },
    {
     "cell_type": "markdown",
     "metadata": {},
     "source": [
      "**2) Find n closest objects from a given \"RefPoint\"**"
     ]
    },
    {
     "cell_type": "code",
     "collapsed": false,
     "input": [
      "limit_nb = 15"
     ],
     "language": "python",
     "metadata": {},
     "outputs": [],
     "prompt_number": 120
    },
    {
     "cell_type": "code",
     "collapsed": false,
     "input": [
      "%%sql\n",
      "select * from\n",
      "(select id,name,ST_3DDistance(obj_geom, ST_MakePoint(:refX, :refY, :refZ)) as distance\n",
      "from cubes\n",
      "order by distance\n",
      "limit :limit_nb) as orderset;"
     ],
     "language": "python",
     "metadata": {},
     "outputs": [
      {
       "output_type": "stream",
       "stream": "stdout",
       "text": [
        "15 rows affected.\n"
       ]
      },
      {
       "html": [
        "<table>\n",
        "    <tr>\n",
        "        <th>id</th>\n",
        "        <th>name</th>\n",
        "        <th>distance</th>\n",
        "    </tr>\n",
        "    <tr>\n",
        "        <td>2530732</td>\n",
        "        <td>cube_at coord(10239,8529,8656) of size 1</td>\n",
        "        <td>2005.41018248</td>\n",
        "    </tr>\n",
        "    <tr>\n",
        "        <td>2403810</td>\n",
        "        <td>cube_at coord(11910,10324,10668) of size 1</td>\n",
        "        <td>2049.21936356</td>\n",
        "    </tr>\n",
        "    <tr>\n",
        "        <td>2639505</td>\n",
        "        <td>cube_at coord(9287,11797,10994) of size 1</td>\n",
        "        <td>2173.5199562</td>\n",
        "    </tr>\n",
        "    <tr>\n",
        "        <td>145072</td>\n",
        "        <td>cube_at coord(12214,8208,11046) of size 1</td>\n",
        "        <td>3033.74240831</td>\n",
        "    </tr>\n",
        "    <tr>\n",
        "        <td>2067746</td>\n",
        "        <td>cube_at coord(10067,12270,12102) of size 1</td>\n",
        "        <td>3094.47782348</td>\n",
        "    </tr>\n",
        "    <tr>\n",
        "        <td>373147</td>\n",
        "        <td>cube_at coord(10578,11066,7123) of size 1</td>\n",
        "        <td>3121.18823527</td>\n",
        "    </tr>\n",
        "    <tr>\n",
        "        <td>509827</td>\n",
        "        <td>cube_at coord(11612,9765,13176) of size 1</td>\n",
        "        <td>3569.3523222</td>\n",
        "    </tr>\n",
        "    <tr>\n",
        "        <td>2767042</td>\n",
        "        <td>cube_at coord(10038,7208,7681) of size 1</td>\n",
        "        <td>3628.25701956</td>\n",
        "    </tr>\n",
        "    <tr>\n",
        "        <td>412990</td>\n",
        "        <td>cube_at coord(6275,8550,11687) of size 1</td>\n",
        "        <td>4337.48152734</td>\n",
        "    </tr>\n",
        "    <tr>\n",
        "        <td>81049</td>\n",
        "        <td>cube_at coord(6651,10103,12998) of size 1</td>\n",
        "        <td>4495.29943385</td>\n",
        "    </tr>\n",
        "    <tr>\n",
        "        <td>1748007</td>\n",
        "        <td>cube_at coord(5337,10050,10431) of size 1</td>\n",
        "        <td>4682.14747739</td>\n",
        "    </tr>\n",
        "    <tr>\n",
        "        <td>220148</td>\n",
        "        <td>cube_at coord(13348,6591,10321) of size 1</td>\n",
        "        <td>4788.17386902</td>\n",
        "    </tr>\n",
        "    <tr>\n",
        "        <td>1446040</td>\n",
        "        <td>cube_at coord(14578,8220,10009) of size 1</td>\n",
        "        <td>4911.51768805</td>\n",
        "    </tr>\n",
        "    <tr>\n",
        "        <td>1108295</td>\n",
        "        <td>cube_at coord(10848,9832,5125) of size 1</td>\n",
        "        <td>4950.03727259</td>\n",
        "    </tr>\n",
        "    <tr>\n",
        "        <td>2384615</td>\n",
        "        <td>cube_at coord(14416,12498,10390) of size 1</td>\n",
        "        <td>5088.53220487</td>\n",
        "    </tr>\n",
        "</table>"
       ],
       "metadata": {},
       "output_type": "pyout",
       "prompt_number": 121,
       "text": [
        "[(2530732, u'cube_at coord(10239,8529,8656) of size 1', 2005.41018248138),\n",
        " (2403810, u'cube_at coord(11910,10324,10668) of size 1', 2049.21936356262),\n",
        " (2639505, u'cube_at coord(9287,11797,10994) of size 1', 2173.51995620008),\n",
        " (145072, u'cube_at coord(12214,8208,11046) of size 1', 3033.74240831353),\n",
        " (2067746, u'cube_at coord(10067,12270,12102) of size 1', 3094.47782347846),\n",
        " (373147, u'cube_at coord(10578,11066,7123) of size 1', 3121.18823527195),\n",
        " (509827, u'cube_at coord(11612,9765,13176) of size 1', 3569.35232220077),\n",
        " (2767042, u'cube_at coord(10038,7208,7681) of size 1', 3628.25701956187),\n",
        " (412990, u'cube_at coord(6275,8550,11687) of size 1', 4337.48152733819),\n",
        " (81049, u'cube_at coord(6651,10103,12998) of size 1', 4495.2994338531),\n",
        " (1748007, u'cube_at coord(5337,10050,10431) of size 1', 4682.14747738685),\n",
        " (220148, u'cube_at coord(13348,6591,10321) of size 1', 4788.17386902356),\n",
        " (1446040, u'cube_at coord(14578,8220,10009) of size 1', 4911.51768804715),\n",
        " (1108295, u'cube_at coord(10848,9832,5125) of size 1', 4950.03727258694),\n",
        " (2384615, u'cube_at coord(14416,12498,10390) of size 1', 5088.53220487008)]"
       ]
      }
     ],
     "prompt_number": 121
    },
    {
     "cell_type": "markdown",
     "metadata": {},
     "source": [
      "Unfortunately, the special <-> operator does not work for 3-D (http://boundlessgeo.com/2011/09/indexed-nearest-neighbour-search-in-postgis/).  This slow query does a full table scan + sort and cannot make use of the spatial index."
     ]
    },
    {
     "cell_type": "code",
     "collapsed": false,
     "input": [
      "%%sql\n",
      "explain analyze \n",
      "select id,name,ST_3DDistance(obj_geom, ST_MakePoint(:refX, :refY, :refZ)) as distance\n",
      "from cubes\n",
      "order by distance\n",
      "limit :limit_nb;"
     ],
     "language": "python",
     "metadata": {},
     "outputs": [
      {
       "output_type": "stream",
       "stream": "stdout",
       "text": [
        "6 rows affected.\n"
       ]
      },
      {
       "html": [
        "<table>\n",
        "    <tr>\n",
        "        <th>QUERY PLAN</th>\n",
        "    </tr>\n",
        "    <tr>\n",
        "        <td>Limit  (cost=1228603.36..1228603.40 rows=15 width=905) (actual time=13886.255..13886.260 rows=15 loops=1)</td>\n",
        "    </tr>\n",
        "    <tr>\n",
        "        <td>&nbsp;&nbsp;-&gt;  Sort  (cost=1228603.36..1236103.36 rows=3000000 width=905) (actual time=13886.253..13886.256 rows=15 loops=1)</td>\n",
        "    </tr>\n",
        "    <tr>\n",
        "        <td>&nbsp;&nbsp;&nbsp;&nbsp;&nbsp;&nbsp;&nbsp;&nbsp;Sort Key: (st_3ddistance(obj_geom, '0101000080000000000088C340000000000088C340000000000088C340'::geometry))</td>\n",
        "    </tr>\n",
        "    <tr>\n",
        "        <td>&nbsp;&nbsp;&nbsp;&nbsp;&nbsp;&nbsp;&nbsp;&nbsp;Sort Method: top-N heapsort  Memory: 27kB</td>\n",
        "    </tr>\n",
        "    <tr>\n",
        "        <td>&nbsp;&nbsp;&nbsp;&nbsp;&nbsp;&nbsp;&nbsp;&nbsp;-&gt;  Seq Scan on cubes  (cost=0.00..1155000.00 rows=3000000 width=905) (actual time=0.031..13046.541 rows=3000000 loops=1)</td>\n",
        "    </tr>\n",
        "    <tr>\n",
        "        <td>Total runtime: 13886.287 ms</td>\n",
        "    </tr>\n",
        "</table>"
       ],
       "metadata": {},
       "output_type": "pyout",
       "prompt_number": 148,
       "text": [
        "[(u'Limit  (cost=1228603.36..1228603.40 rows=15 width=905) (actual time=13886.255..13886.260 rows=15 loops=1)',),\n",
        " (u'  ->  Sort  (cost=1228603.36..1236103.36 rows=3000000 width=905) (actual time=13886.253..13886.256 rows=15 loops=1)',),\n",
        " (u\"        Sort Key: (st_3ddistance(obj_geom, '0101000080000000000088C340000000000088C340000000000088C340'::geometry))\",),\n",
        " (u'        Sort Method: top-N heapsort  Memory: 27kB',),\n",
        " (u'        ->  Seq Scan on cubes  (cost=0.00..1155000.00 rows=3000000 width=905) (actual time=0.031..13046.541 rows=3000000 loops=1)',),\n",
        " (u'Total runtime: 13886.287 ms',)]"
       ]
      }
     ],
     "prompt_number": 148
    },
    {
     "cell_type": "markdown",
     "metadata": {},
     "source": [
      "If needed, we could implement at the DAO layer an iterative approach where we would add both constraints belwo (both are needed for best perf) and increasing/decreasing distance size as to reach the 'n closest object'"
     ]
    },
    {
     "cell_type": "code",
     "collapsed": false,
     "input": [
      "%%sql\n",
      "explain analyze \n",
      "select id,name,ST_3DDistance(obj_geom, ST_MakePoint(:refX, :refY, :refZ)) as distance\n",
      "from cubes\n",
      "where \n",
      "ST_3DDWithin(obj_geom, ST_MakePoint(:refX, :refY, :refZ),:distance) \n",
      "and (obj_geom &&& ST_MakeLine(ST_MakePoint(:llx, :lly, :llz), ST_MakePoint(:urx, :ury, :urz)))\n",
      "order by distance\n",
      "limit :limit_nb;"
     ],
     "language": "python",
     "metadata": {},
     "outputs": [
      {
       "output_type": "stream",
       "stream": "stdout",
       "text": [
        "11 rows affected.\n"
       ]
      },
      {
       "html": [
        "<table>\n",
        "    <tr>\n",
        "        <th>QUERY PLAN</th>\n",
        "    </tr>\n",
        "    <tr>\n",
        "        <td>Limit  (cost=4389.99..4390.00 rows=1 width=905) (actual time=4.021..4.027 rows=14 loops=1)</td>\n",
        "    </tr>\n",
        "    <tr>\n",
        "        <td>&nbsp;&nbsp;-&gt;  Sort  (cost=4389.99..4390.00 rows=1 width=905) (actual time=4.019..4.021 rows=14 loops=1)</td>\n",
        "    </tr>\n",
        "    <tr>\n",
        "        <td>&nbsp;&nbsp;&nbsp;&nbsp;&nbsp;&nbsp;&nbsp;&nbsp;Sort Key: (st_3ddistance(obj_geom, '0101000080000000000088C340000000000088C340000000000088C340'::geometry))</td>\n",
        "    </tr>\n",
        "    <tr>\n",
        "        <td>&nbsp;&nbsp;&nbsp;&nbsp;&nbsp;&nbsp;&nbsp;&nbsp;Sort Method: quicksort  Memory: 26kB</td>\n",
        "    </tr>\n",
        "    <tr>\n",
        "        <td>&nbsp;&nbsp;&nbsp;&nbsp;&nbsp;&nbsp;&nbsp;&nbsp;-&gt;  Bitmap Heap Scan on cubes  (cost=36.36..4389.98 rows=1 width=905) (actual time=0.937..3.993 rows=14 loops=1)</td>\n",
        "    </tr>\n",
        "    <tr>\n",
        "        <td>&nbsp;&nbsp;&nbsp;&nbsp;&nbsp;&nbsp;&nbsp;&nbsp;&nbsp;&nbsp;&nbsp;&nbsp;&nbsp;&nbsp;Recheck Cond: (obj_geom &amp;&amp; '01030000800100000005000000000000000088B340000000000088B340000000000088B340000000000088B34000000000004CCD40000000000088B34000000000004CCD4000000000004CCD4000000000004CCD4000000000004CCD40000000000088B34000000000004CCD40000000000088B340000000000088B340000000000088B340'::geometry)</td>\n",
        "    </tr>\n",
        "    <tr>\n",
        "        <td>&nbsp;&nbsp;&nbsp;&nbsp;&nbsp;&nbsp;&nbsp;&nbsp;&nbsp;&nbsp;&nbsp;&nbsp;&nbsp;&nbsp;Filter: ((obj_geom &amp;&amp;&amp; '010200008002000000000000000088B340000000000088B340000000000088B34000000000004CCD4000000000004CCD4000000000004CCD40'::geometry) AND ('0101000080000000000088C340000000000088C340000000000088C340'::geometry &amp;&amp; st_expand(obj_geom, 5000::double precision)) AND _st_3ddwithin(obj_geom, '0101000080000000000088C340000000000088C340000000000088C340'::geometry, 5000::double precision))</td>\n",
        "    </tr>\n",
        "    <tr>\n",
        "        <td>&nbsp;&nbsp;&nbsp;&nbsp;&nbsp;&nbsp;&nbsp;&nbsp;&nbsp;&nbsp;&nbsp;&nbsp;&nbsp;&nbsp;Rows Removed by Filter: 1198</td>\n",
        "    </tr>\n",
        "    <tr>\n",
        "        <td>&nbsp;&nbsp;&nbsp;&nbsp;&nbsp;&nbsp;&nbsp;&nbsp;&nbsp;&nbsp;&nbsp;&nbsp;&nbsp;&nbsp;-&gt;  Bitmap Index Scan on cubeindex  (cost=0.00..36.36 rows=1060 width=0) (actual time=0.480..0.480 rows=1212 loops=1)</td>\n",
        "    </tr>\n",
        "    <tr>\n",
        "        <td>&nbsp;&nbsp;&nbsp;&nbsp;&nbsp;&nbsp;&nbsp;&nbsp;&nbsp;&nbsp;&nbsp;&nbsp;&nbsp;&nbsp;&nbsp;&nbsp;&nbsp;&nbsp;&nbsp;&nbsp;Index Cond: (obj_geom &amp;&amp; '01030000800100000005000000000000000088B340000000000088B340000000000088B340000000000088B34000000000004CCD40000000000088B34000000000004CCD4000000000004CCD4000000000004CCD4000000000004CCD40000000000088B34000000000004CCD40000000000088B340000000000088B340000000000088B340'::geometry)</td>\n",
        "    </tr>\n",
        "    <tr>\n",
        "        <td>Total runtime: 4.068 ms</td>\n",
        "    </tr>\n",
        "</table>"
       ],
       "metadata": {},
       "output_type": "pyout",
       "prompt_number": 159,
       "text": [
        "[(u'Limit  (cost=4389.99..4390.00 rows=1 width=905) (actual time=4.021..4.027 rows=14 loops=1)',),\n",
        " (u'  ->  Sort  (cost=4389.99..4390.00 rows=1 width=905) (actual time=4.019..4.021 rows=14 loops=1)',),\n",
        " (u\"        Sort Key: (st_3ddistance(obj_geom, '0101000080000000000088C340000000000088C340000000000088C340'::geometry))\",),\n",
        " (u'        Sort Method: quicksort  Memory: 26kB',),\n",
        " (u'        ->  Bitmap Heap Scan on cubes  (cost=36.36..4389.98 rows=1 width=905) (actual time=0.937..3.993 rows=14 loops=1)',),\n",
        " (u\"              Recheck Cond: (obj_geom && '01030000800100000005000000000000000088B340000000000088B340000000000088B340000000000088B34000000000004CCD40000000000088B34000000000004CCD4000000000004CCD4000000000004CCD4000000000004CCD40000000000088B34000000000004CCD40000000000088B340000000000088B340000000000088B340'::geometry)\",),\n",
        " (u\"              Filter: ((obj_geom &&& '010200008002000000000000000088B340000000000088B340000000000088B34000000000004CCD4000000000004CCD4000000000004CCD40'::geometry) AND ('0101000080000000000088C340000000000088C340000000000088C340'::geometry && st_expand(obj_geom, 5000::double precision)) AND _st_3ddwithin(obj_geom, '0101000080000000000088C340000000000088C340000000000088C340'::geometry, 5000::double precision))\",),\n",
        " (u'              Rows Removed by Filter: 1198',),\n",
        " (u'              ->  Bitmap Index Scan on cubeindex  (cost=0.00..36.36 rows=1060 width=0) (actual time=0.480..0.480 rows=1212 loops=1)',),\n",
        " (u\"                    Index Cond: (obj_geom && '01030000800100000005000000000000000088B340000000000088B340000000000088B340000000000088B34000000000004CCD40000000000088B34000000000004CCD4000000000004CCD4000000000004CCD4000000000004CCD40000000000088B34000000000004CCD40000000000088B340000000000088B340000000000088B340'::geometry)\",),\n",
        " (u'Total runtime: 4.068 ms',)]"
       ]
      }
     ],
     "prompt_number": 159
    }
   ],
   "metadata": {}
  }
 ]
}