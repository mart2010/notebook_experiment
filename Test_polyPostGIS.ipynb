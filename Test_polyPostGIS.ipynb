{
 "cells": [
  {
   "cell_type": "markdown",
   "metadata": {},
   "source": [
    "Notebook for performance analysis with PostGIS\n",
    "=============================================\n",
    "\n",
    "Prerequisite:\n",
    "* python and ipython notebook installed\n",
    "* psycopg2 (although this is optional as loading can also be done straight in SQL)\n",
    "* extension *sql* magic (see https://github.com/catherinedevlin/ipython-sql for details)\n",
    "\n",
    "\n",
    "Also, one needs a postgres/postgis instance running and adjust the connection string."
   ]
  },
  {
   "cell_type": "code",
   "execution_count": 1,
   "metadata": {
    "collapsed": false
   },
   "outputs": [],
   "source": [
    "%load_ext sql"
   ]
  },
  {
   "cell_type": "code",
   "execution_count": 2,
   "metadata": {
    "collapsed": false
   },
   "outputs": [
    {
     "data": {
      "text/plain": [
       "u'Connected: None@pspat'"
      ]
     },
     "execution_count": 2,
     "metadata": {},
     "output_type": "execute_result"
    }
   ],
   "source": [
    "%sql postgresql://localhost/pspat"
   ]
  },
  {
   "cell_type": "markdown",
   "metadata": {},
   "source": [
    "Data loading strategy for brain region and neuron (3D box)\n",
    "==========================================================\n",
    "\n",
    "* Data access object layer (DAO java-code) provides a method to convert input coordinate of opposite corners (lower-left, upper-right) into the WKT string (see an ex. 'objAsWKT' below)\n",
    "* The DAO insert method load Polyhedral cube using ST_GeomFromEWKT(%cube) by passing the string conversion (see insertSQL)\n",
    "* possible methods overloaded possible to take alternative input: extreme corner, centroid and size\n"
   ]
  },
  {
   "cell_type": "markdown",
   "metadata": {},
   "source": [
    "**DDL test set-up** (use a simple 'cube' table for test purposes)"
   ]
  },
  {
   "cell_type": "code",
   "execution_count": 4,
   "metadata": {
    "collapsed": false
   },
   "outputs": [
    {
     "name": "stdout",
     "output_type": "stream",
     "text": [
      "Done.\n",
      "Done.\n"
     ]
    },
    {
     "data": {
      "text/plain": [
       "[]"
      ]
     },
     "execution_count": 4,
     "metadata": {},
     "output_type": "execute_result"
    }
   ],
   "source": [
    "%%sql\n",
    "drop table cube;\n",
    "create table cube(id serial\n",
    "                   ,name varchar(100)\n",
    "                   ,centroid_x double precision\n",
    "                   ,centroid_y double precision\n",
    "                   ,centroid_z double precision);"
   ]
  },
  {
   "cell_type": "code",
   "execution_count": 5,
   "metadata": {
    "collapsed": false
   },
   "outputs": [
    {
     "name": "stdout",
     "output_type": "stream",
     "text": [
      "1 rows affected.\n"
     ]
    },
    {
     "data": {
      "text/html": [
       "<table>\n",
       "    <tr>\n",
       "        <th>addgeometrycolumn</th>\n",
       "    </tr>\n",
       "    <tr>\n",
       "        <td>public.cube.obj_geom SRID:0 TYPE:POLYHEDRALSURFACE DIMS:3 </td>\n",
       "    </tr>\n",
       "</table>"
      ],
      "text/plain": [
       "[(u'public.cube.obj_geom SRID:0 TYPE:POLYHEDRALSURFACE DIMS:3 ',)]"
      ]
     },
     "execution_count": 5,
     "metadata": {},
     "output_type": "execute_result"
    }
   ],
   "source": [
    "%%sql \n",
    "select AddGeometryColumn('public','cube','obj_geom',0,'POLYHEDRALSURFACE',3);\n"
   ]
  },
  {
   "cell_type": "code",
   "execution_count": 6,
   "metadata": {
    "collapsed": false
   },
   "outputs": [
    {
     "name": "stdout",
     "output_type": "stream",
     "text": [
      "Done.\n",
      "Done.\n",
      "Done.\n"
     ]
    },
    {
     "data": {
      "text/plain": [
       "[]"
      ]
     },
     "execution_count": 6,
     "metadata": {},
     "output_type": "execute_result"
    }
   ],
   "source": [
    "%%sql \n",
    "alter table cube alter column obj_geom set not null;\n",
    "create index cubeindex on cube using gist(obj_geom);\n",
    "create unique index on cube(name);"
   ]
  },
  {
   "cell_type": "code",
   "execution_count": 7,
   "metadata": {
    "collapsed": false
   },
   "outputs": [],
   "source": [
    "def objAsWKT(minCoord, maxCoord):\n",
    "    \"\"\" minCoord: tupple for min coordinates of 3D box\n",
    "        maxCoord: tupple for max coordinates of 3D box\n",
    "    \"\"\"\n",
    "    xmin = str(minCoord[0]) + \" \"\n",
    "    ymin = str(minCoord[1]) + \" \"\n",
    "    zmin = str(minCoord[2]) + \" \"\n",
    "    xmax = str(maxCoord[0]) + \" \"\n",
    "    ymax = str(maxCoord[1]) + \" \" \n",
    "    zmax = str(maxCoord[2]) + \" \"\n",
    "    \n",
    "    prefix = 'SRID=0; POLYHEDRALSURFACE('\n",
    "    #facets vertices counter-clockwise\n",
    "    z = '((' +xmin+ymin+zmax+','+xmax+ymin+zmax+','+xmax+ymax+zmax+','+xmin+ymax+zmax+','+xmin+ymin+zmax + ')),'\n",
    "    z_= '((' +xmax+ymin+zmin+','+xmin+ymin+zmin+','+xmin+ymax+zmin+','+xmax+ymax+zmin+','+xmax+ymin+zmin + ')),'\n",
    "    x = '((' +xmax+ymin+zmax+','+xmax+ymin+zmin+','+xmax+ymax+zmin+','+xmax+ymax+zmax+','+xmax+ymin+zmax + ')),'\n",
    "    x_= '((' +xmin+ymin+zmin+','+xmin+ymin+zmax+','+xmin+ymax+zmax+','+xmin+ymax+zmin+','+xmin+ymin+zmin + ')),'\n",
    "    y = '((' +xmin+ymax+zmin+','+xmin+ymax+zmax+','+xmax+ymax+zmax+','+xmax+ymax+zmin+','+xmin+ymax+zmin + ')),'\n",
    "    y_= '((' +xmin+ymin+zmax+','+xmin+ymin+zmin+','+xmax+ymin+zmin+','+xmax+ymin+zmax+','+xmin+ymin+zmax + '))'\n",
    "    postfix = \")\"\n",
    "    return prefix + z + z_ + x + x_ + y + y_ + postfix    "
   ]
  },
  {
   "cell_type": "markdown",
   "metadata": {},
   "source": [
    "**Let's insert a simple box (0,0,0),(1,1,1)**"
   ]
  },
  {
   "cell_type": "code",
   "execution_count": 8,
   "metadata": {
    "collapsed": false
   },
   "outputs": [],
   "source": [
    "objectWKT = objAsWKT((0,0,0),(1,1,1))"
   ]
  },
  {
   "cell_type": "code",
   "execution_count": 9,
   "metadata": {
    "collapsed": false
   },
   "outputs": [
    {
     "name": "stdout",
     "output_type": "stream",
     "text": [
      "1 rows affected.\n"
     ]
    },
    {
     "data": {
      "text/plain": [
       "[]"
      ]
     },
     "execution_count": 9,
     "metadata": {},
     "output_type": "execute_result"
    }
   ],
   "source": [
    "%%sql \n",
    "INSERT INTO cube(name,centroid_x,centroid_y,centroid_z,obj_geom) \n",
    "VALUES('cubeTest', 0.5, 0.5, 0.5, ST_GeomFromEWKT(:objectWKT));"
   ]
  },
  {
   "cell_type": "markdown",
   "metadata": {},
   "source": [
    "**Validate the box is correctly stored**"
   ]
  },
  {
   "cell_type": "code",
   "execution_count": 10,
   "metadata": {
    "collapsed": false
   },
   "outputs": [
    {
     "name": "stdout",
     "output_type": "stream",
     "text": [
      "1 rows affected.\n"
     ]
    },
    {
     "data": {
      "text/html": [
       "<table>\n",
       "    <tr>\n",
       "        <th>st_asewkt</th>\n",
       "    </tr>\n",
       "    <tr>\n",
       "        <td>POLYHEDRALSURFACE(((0 0 1,1 0 1,1 1 1,0 1 1,0 0 1)),((1 0 0,0 0 0,0 1 0,1 1 0,1 0 0)),((1 0 1,1 0 0,1 1 0,1 1 1,1 0 1)),((0 0 0,0 0 1,0 1 1,0 1 0,0 0 0)),((0 1 0,0 1 1,1 1 1,1 1 0,0 1 0)),((0 0 1,0 0 0,1 0 0,1 0 1,0 0 1)))</td>\n",
       "    </tr>\n",
       "</table>"
      ],
      "text/plain": [
       "[(u'POLYHEDRALSURFACE(((0 0 1,1 0 1,1 1 1,0 1 1,0 0 1)),((1 0 0,0 0 0,0 1 0,1 1 0,1 0 0)),((1 0 1,1 0 0,1 1 0,1 1 1,1 0 1)),((0 0 0,0 0 1,0 1 1,0 1 0,0 0 0)),((0 1 0,0 1 1,1 1 1,1 1 0,0 1 0)),((0 0 1,0 0 0,1 0 0,1 0 1,0 0 1)))',)]"
      ]
     },
     "execution_count": 10,
     "metadata": {},
     "output_type": "execute_result"
    }
   ],
   "source": [
    "%%sql\n",
    "select ST_AsEWKT(obj_geom) from cube where name = 'cubeTest';"
   ]
  },
  {
   "cell_type": "markdown",
   "metadata": {},
   "source": [
    "**Validate the box is closed**"
   ]
  },
  {
   "cell_type": "code",
   "execution_count": 11,
   "metadata": {
    "collapsed": false
   },
   "outputs": [
    {
     "name": "stdout",
     "output_type": "stream",
     "text": [
      "1 rows affected.\n"
     ]
    },
    {
     "data": {
      "text/html": [
       "<table>\n",
       "    <tr>\n",
       "        <th>st_isclosed</th>\n",
       "    </tr>\n",
       "    <tr>\n",
       "        <td>True</td>\n",
       "    </tr>\n",
       "</table>"
      ],
      "text/plain": [
       "[(True,)]"
      ]
     },
     "execution_count": 11,
     "metadata": {},
     "output_type": "execute_result"
    }
   ],
   "source": [
    "%%sql \n",
    "select ST_IsClosed(obj_geom) from cube where name = 'cubeTest';"
   ]
  },
  {
   "cell_type": "markdown",
   "metadata": {},
   "source": [
    "**Validates it has 6 faces**"
   ]
  },
  {
   "cell_type": "code",
   "execution_count": 13,
   "metadata": {
    "collapsed": false
   },
   "outputs": [
    {
     "name": "stdout",
     "output_type": "stream",
     "text": [
      "1 rows affected.\n"
     ]
    },
    {
     "data": {
      "text/html": [
       "<table>\n",
       "    <tr>\n",
       "        <th>st_numpatches</th>\n",
       "    </tr>\n",
       "    <tr>\n",
       "        <td>6</td>\n",
       "    </tr>\n",
       "</table>"
      ],
      "text/plain": [
       "[(6,)]"
      ]
     },
     "execution_count": 13,
     "metadata": {},
     "output_type": "execute_result"
    }
   ],
   "source": [
    "%%sql\n",
    "select ST_numpatches(obj_geom) from cube where name = 'cubeTest';"
   ]
  },
  {
   "cell_type": "markdown",
   "metadata": {},
   "source": [
    "Implementation of the \"NearMe\" query:\n",
    "====================================\n"
   ]
  },
  {
   "cell_type": "markdown",
   "metadata": {},
   "source": [
    "**Insert sample cubes data**"
   ]
  },
  {
   "cell_type": "code",
   "execution_count": 14,
   "metadata": {
    "collapsed": false
   },
   "outputs": [],
   "source": [
    "nb_cubes = 3000000\n",
    "max_size = 5.0\n",
    "max_range = 50000.0"
   ]
  },
  {
   "cell_type": "markdown",
   "metadata": {},
   "source": [
    "Implementation using python/psycopg2 WARNING: insert row by row with auto-commit, so kind of slow (ok for nb_cubes < 100'000):"
   ]
  },
  {
   "cell_type": "code",
   "execution_count": 46,
   "metadata": {
    "collapsed": false
   },
   "outputs": [],
   "source": [
    "import psycopg2 as ps\n",
    "from random import *\n",
    "conn = ps.connect(host=\"bbpdbsrv03\", database=\"pspat\", user=\"pspat\")\n",
    "conn.set_isolation_level(0)\n",
    "cur = conn.cursor()\n",
    "ins = \"insert into cube(name,obj_geom) values(%s,ST_GeomFromEWKT(%s))\"\n",
    "for i in range(nb_cubes):\n",
    "    x, y, z  = random()*max_range, random()*max_range, random()*max_range\n",
    "    cube_size = max_size * random()\n",
    "    name = \"cube_at (%d,%d,%d) of size %d\" %(x, y, z, cube_size)\n",
    "    cubewkt = objAsWKT((x,y,z),(x+cube_size,y+cube_size,z+cube_size))\n",
    "    cur.execute(ins, (name, cubewkt))\n",
    "cur.close()\n",
    "conn.close()"
   ]
  },
  {
   "cell_type": "markdown",
   "metadata": {},
   "source": [
    "Much quicker alternative that bulk insert all rows in one transaction (3M rows loaded in less than 15min):"
   ]
  },
  {
   "cell_type": "code",
   "execution_count": 15,
   "metadata": {
    "collapsed": false
   },
   "outputs": [
    {
     "name": "stdout",
     "output_type": "stream",
     "text": [
      "3000000 rows affected.\n"
     ]
    },
    {
     "data": {
      "text/plain": [
       "[]"
      ]
     },
     "execution_count": 15,
     "metadata": {},
     "output_type": "execute_result"
    }
   ],
   "source": [
    "%%sql\n",
    "with sim_data as(\n",
    "\tselect x xmin, y ymin, z zmin, x+size xmax, y+size ymax, z+size zmax, size from\t\n",
    "\t(select id \n",
    "\t\t,random()*:max_range as x\n",
    "\t\t,random()*:max_range as y\n",
    "\t\t,random()*:max_range as z\n",
    "\t\t,random()*:max_size as size\n",
    "\tfrom generate_series(1,:nb_cubes) id) as foo\n",
    ")\n",
    "insert into cube(name, centroid_x, centroid_y, centroid_z, obj_geom) \n",
    "select \n",
    "    'cube at (' || to_char(xmin,'FM999999.00') || ', ' || to_char(ymin,'FM999999.00') || ', ' || to_char(zmin,'FM999999.00') || ')' as name\n",
    "\t,xmin+size, ymin+size, zmin+size\n",
    "\t,ST_GeomFromEWKT( 'SRID=0; POLYHEDRALSURFACE(' || \n",
    "\t\t '((' ||xmin||' '||ymin||' '||zmax||','||xmax||' '||ymin||' '||zmax||','||xmax||' '||ymax||' '||zmax||','||xmin||' '||ymax||' '||zmax||','||xmin||' '||ymin||' '||zmax || ')),' ||\n",
    "\t\t'((' ||xmax||' '||ymin||' '||zmin||','||xmin||' '||ymin||' '||zmin||','||xmin||' '||ymax||' '||zmin||','||xmax||' '||ymax||' '||zmin||','||xmax||' '||ymin||' '||zmin || ')),' ||\n",
    "\t\t'((' ||xmax||' '||ymin||' '||zmax||','||xmax||' '||ymin||' '||zmin||','||xmax||' '||ymax||' '||zmin||','||xmax||' '||ymax||' '||zmax||','||xmax||' '||ymin||' '||zmax || ')),' ||\n",
    "\t\t'((' ||xmin||' '||ymin||' '||zmin||','||xmin||' '||ymin||' '||zmax||','||xmin||' '||ymax||' '||zmax||','||xmin||' '||ymax||' '||zmin||','||xmin||' '||ymin||' '||zmin || ')),' ||\n",
    "\t\t'((' ||xmin||' '||ymax||' '||zmin||','||xmin||' '||ymax||' '||zmax||','||xmax||' '||ymax||' '||zmax||','||xmax||' '||ymax||' '||zmin||','||xmin||' '||ymax||' '||zmin || ')),' ||\n",
    "\t\t'((' ||xmin||' '||ymin||' '||zmax||','||xmin||' '||ymin||' '||zmin||','||xmax||' '||ymin||' '||zmin||','||xmax||' '||ymin||' '||zmax||','||xmin||' '||ymin||' '||zmax || ')) )' )\t\t\n",
    "from sim_data;"
   ]
  },
  {
   "cell_type": "markdown",
   "metadata": {},
   "source": [
    "After loading, refresh statistics for Execution plan optimizer"
   ]
  },
  {
   "cell_type": "code",
   "execution_count": 16,
   "metadata": {
    "collapsed": false
   },
   "outputs": [
    {
     "name": "stdout",
     "output_type": "stream",
     "text": [
      "Done.\n"
     ]
    },
    {
     "data": {
      "text/plain": [
       "[]"
      ]
     },
     "execution_count": 16,
     "metadata": {},
     "output_type": "execute_result"
    }
   ],
   "source": [
    "%sql vacuum analyze cube"
   ]
  },
  {
   "cell_type": "markdown",
   "metadata": {},
   "source": [
    "**3- Validate query perf**"
   ]
  },
  {
   "cell_type": "markdown",
   "metadata": {},
   "source": [
    "**Simple implementation with ST_3DDWithin (making use of 'cubeindex' spatial index!)**"
   ]
  },
  {
   "cell_type": "code",
   "execution_count": 17,
   "metadata": {
    "collapsed": false
   },
   "outputs": [
    {
     "name": "stdout",
     "output_type": "stream",
     "text": [
      "9 rows affected.\n"
     ]
    },
    {
     "data": {
      "text/html": [
       "<table>\n",
       "    <tr>\n",
       "        <th>QUERY PLAN</th>\n",
       "    </tr>\n",
       "    <tr>\n",
       "        <td>Bitmap Heap Scan on cube  (cost=136.97..17138.77 rows=289 width=922) (actual time=5.161..106.932 rows=105 loops=1)</td>\n",
       "    </tr>\n",
       "    <tr>\n",
       "        <td>&nbsp;&nbsp;Recheck Cond: (obj_geom &amp;&amp; '01030000800100000005000000000000000070D740000000000070D740000000000070D740000000000070D740000000000064D940000000000070D740000000000064D940000000000064D940000000000064D940000000000064D940000000000070D740000000000064D940000000000070D740000000000070D740000000000070D740'::geometry)</td>\n",
       "    </tr>\n",
       "    <tr>\n",
       "        <td>&nbsp;&nbsp;Filter: (('010100008000000000006AD84000000000006AD84000000000006AD840'::geometry &amp;&amp; st_expand(obj_geom, 1000::double precision)) AND _st_3ddwithin(obj_geom, '010100008000000000006AD84000000000006AD84000000000006AD840'::geometry, 1000::double precision))</td>\n",
       "    </tr>\n",
       "    <tr>\n",
       "        <td>&nbsp;&nbsp;Rows Removed by Filter: 4718</td>\n",
       "    </tr>\n",
       "    <tr>\n",
       "        <td>&nbsp;&nbsp;Heap Blocks: exact=4802</td>\n",
       "    </tr>\n",
       "    <tr>\n",
       "        <td>&nbsp;&nbsp;-&gt;  Bitmap Index Scan on cubeindex  (cost=0.00..136.90 rows=4331 width=0) (actual time=3.261..3.261 rows=4823 loops=1)</td>\n",
       "    </tr>\n",
       "    <tr>\n",
       "        <td>&nbsp;&nbsp;&nbsp;&nbsp;&nbsp;&nbsp;&nbsp;&nbsp;Index Cond: (obj_geom &amp;&amp; '01030000800100000005000000000000000070D740000000000070D740000000000070D740000000000070D740000000000064D940000000000070D740000000000064D940000000000064D940000000000064D940000000000064D940000000000070D740000000000064D940000000000070D740000000000070D740000000000070D740'::geometry)</td>\n",
       "    </tr>\n",
       "    <tr>\n",
       "        <td>Planning time: 2.171 ms</td>\n",
       "    </tr>\n",
       "    <tr>\n",
       "        <td>Execution time: 107.135 ms</td>\n",
       "    </tr>\n",
       "</table>"
      ],
      "text/plain": [
       "[(u'Bitmap Heap Scan on cube  (cost=136.97..17138.77 rows=289 width=922) (actual time=5.161..106.932 rows=105 loops=1)',),\n",
       " (u\"  Recheck Cond: (obj_geom && '01030000800100000005000000000000000070D740000000000070D740000000000070D740000000000070D740000000000064D940000000000070D740000000000064D940000000000064D940000000000064D940000000000064D940000000000070D740000000000064D940000000000070D740000000000070D740000000000070D740'::geometry)\",),\n",
       " (u\"  Filter: (('010100008000000000006AD84000000000006AD84000000000006AD840'::geometry && st_expand(obj_geom, 1000::double precision)) AND _st_3ddwithin(obj_geom, '010100008000000000006AD84000000000006AD84000000000006AD840'::geometry, 1000::double precision))\",),\n",
       " (u'  Rows Removed by Filter: 4718',),\n",
       " (u'  Heap Blocks: exact=4802',),\n",
       " (u'  ->  Bitmap Index Scan on cubeindex  (cost=0.00..136.90 rows=4331 width=0) (actual time=3.261..3.261 rows=4823 loops=1)',),\n",
       " (u\"        Index Cond: (obj_geom && '01030000800100000005000000000000000070D740000000000070D740000000000070D740000000000070D740000000000064D940000000000070D740000000000064D940000000000064D940000000000064D940000000000064D940000000000070D740000000000064D940000000000070D740000000000070D740000000000070D740'::geometry)\",),\n",
       " (u'Planning time: 2.171 ms',),\n",
       " (u'Execution time: 107.135 ms',)]"
      ]
     },
     "execution_count": 17,
     "metadata": {},
     "output_type": "execute_result"
    }
   ],
   "source": [
    "%%sql\n",
    "explain analyze \n",
    "select * from cube where ST_3DDWithin(obj_geom, ST_MakePoint(25000, 25000, 25000),1000);"
   ]
  },
  {
   "cell_type": "markdown",
   "metadata": {},
   "source": [
    "**Optmized implementation with ST_3DDWithin (having the additional 3DBox predicate modifiy the *Filter* step and improves perf!)**"
   ]
  },
  {
   "cell_type": "code",
   "execution_count": 18,
   "metadata": {
    "collapsed": false
   },
   "outputs": [
    {
     "name": "stdout",
     "output_type": "stream",
     "text": [
      "9 rows affected.\n"
     ]
    },
    {
     "data": {
      "text/html": [
       "<table>\n",
       "    <tr>\n",
       "        <th>QUERY PLAN</th>\n",
       "    </tr>\n",
       "    <tr>\n",
       "        <td>Bitmap Heap Scan on cube  (cost=136.90..17149.53 rows=1 width=922) (actual time=4.174..14.969 rows=105 loops=1)</td>\n",
       "    </tr>\n",
       "    <tr>\n",
       "        <td>&nbsp;&nbsp;Recheck Cond: (obj_geom &amp;&amp; '01030000800100000005000000000000000070D740000000000070D740000000000070D740000000000070D740000000000064D940000000000070D740000000000064D940000000000064D940000000000064D940000000000064D940000000000070D740000000000064D940000000000070D740000000000070D740000000000070D740'::geometry)</td>\n",
       "    </tr>\n",
       "    <tr>\n",
       "        <td>&nbsp;&nbsp;Filter: ((obj_geom &amp;&amp;&amp; '010200008002000000000000000070D740000000000070D740000000000070D740000000000064D940000000000064D940000000000064D940'::geometry) AND ('010100008000000000006AD84000000000006AD84000000000006AD840'::geometry &amp;&amp; st_expand(obj_geom, 1000::double precision)) AND _st_3ddwithin(obj_geom, '010100008000000000006AD84000000000006AD84000000000006AD840'::geometry, 1000::double precision))</td>\n",
       "    </tr>\n",
       "    <tr>\n",
       "        <td>&nbsp;&nbsp;Rows Removed by Filter: 4718</td>\n",
       "    </tr>\n",
       "    <tr>\n",
       "        <td>&nbsp;&nbsp;Heap Blocks: exact=4802</td>\n",
       "    </tr>\n",
       "    <tr>\n",
       "        <td>&nbsp;&nbsp;-&gt;  Bitmap Index Scan on cubeindex  (cost=0.00..136.90 rows=4331 width=0) (actual time=2.518..2.518 rows=4823 loops=1)</td>\n",
       "    </tr>\n",
       "    <tr>\n",
       "        <td>&nbsp;&nbsp;&nbsp;&nbsp;&nbsp;&nbsp;&nbsp;&nbsp;Index Cond: (obj_geom &amp;&amp; '01030000800100000005000000000000000070D740000000000070D740000000000070D740000000000070D740000000000064D940000000000070D740000000000064D940000000000064D940000000000064D940000000000064D940000000000070D740000000000064D940000000000070D740000000000070D740000000000070D740'::geometry)</td>\n",
       "    </tr>\n",
       "    <tr>\n",
       "        <td>Planning time: 1.164 ms</td>\n",
       "    </tr>\n",
       "    <tr>\n",
       "        <td>Execution time: 15.028 ms</td>\n",
       "    </tr>\n",
       "</table>"
      ],
      "text/plain": [
       "[(u'Bitmap Heap Scan on cube  (cost=136.90..17149.53 rows=1 width=922) (actual time=4.174..14.969 rows=105 loops=1)',),\n",
       " (u\"  Recheck Cond: (obj_geom && '01030000800100000005000000000000000070D740000000000070D740000000000070D740000000000070D740000000000064D940000000000070D740000000000064D940000000000064D940000000000064D940000000000064D940000000000070D740000000000064D940000000000070D740000000000070D740000000000070D740'::geometry)\",),\n",
       " (u\"  Filter: ((obj_geom &&& '010200008002000000000000000070D740000000000070D740000000000070D740000000000064D940000000000064D940000000000064D940'::geometry) AND ('010100008000000000006AD84000000000006AD84000000000006AD840'::geometry && st_expand(obj_geom, 1000::double precision)) AND _st_3ddwithin(obj_geom, '010100008000000000006AD84000000000006AD84000000000006AD840'::geometry, 1000::double precision))\",),\n",
       " (u'  Rows Removed by Filter: 4718',),\n",
       " (u'  Heap Blocks: exact=4802',),\n",
       " (u'  ->  Bitmap Index Scan on cubeindex  (cost=0.00..136.90 rows=4331 width=0) (actual time=2.518..2.518 rows=4823 loops=1)',),\n",
       " (u\"        Index Cond: (obj_geom && '01030000800100000005000000000000000070D740000000000070D740000000000070D740000000000070D740000000000064D940000000000070D740000000000064D940000000000064D940000000000064D940000000000064D940000000000070D740000000000064D940000000000070D740000000000070D740000000000070D740'::geometry)\",),\n",
       " (u'Planning time: 1.164 ms',),\n",
       " (u'Execution time: 15.028 ms',)]"
      ]
     },
     "execution_count": 18,
     "metadata": {},
     "output_type": "execute_result"
    }
   ],
   "source": [
    "%%sql\n",
    "explain analyze \n",
    "select * \n",
    "from cube where ST_3DDWithin(obj_geom, ST_MakePoint(25000, 25000, 25000),1000)\n",
    "and obj_geom &&& ST_MakeLine(ST_MakePoint(24000, 24000, 24000), ST_MakePoint(26000, 26000, 26000));"
   ]
  },
  {
   "cell_type": "markdown",
   "metadata": {},
   "source": [
    "**Validate optimized query along with parameter passing**"
   ]
  },
  {
   "cell_type": "code",
   "execution_count": 111,
   "metadata": {
    "collapsed": false
   },
   "outputs": [],
   "source": [
    "#param-ins RefPoint and distance\n",
    "refX = 10000.0\n",
    "refY = 10000.0\n",
    "refZ = 10000.0\n",
    "distance = 1000.0\n",
    "\n",
    "#calculate 3D box extreme corners\n",
    "llx, lly, llz = refX-distance, refY-distance, refZ-distance\n",
    "urx, ury, urz = refX+distance, refY+distance, refZ+distance"
   ]
  },
  {
   "cell_type": "code",
   "execution_count": 112,
   "metadata": {
    "collapsed": false
   },
   "outputs": [
    {
     "name": "stdout",
     "output_type": "stream",
     "text": [
      "1 rows affected.\n"
     ]
    },
    {
     "data": {
      "text/html": [
       "<table>\n",
       "    <tr>\n",
       "        <th>nb_cubes</th>\n",
       "        <th>nb_within</th>\n",
       "        <th>nb_within_optimized</th>\n",
       "    </tr>\n",
       "    <tr>\n",
       "        <td>3000001</td>\n",
       "        <td>98</td>\n",
       "        <td>98</td>\n",
       "    </tr>\n",
       "</table>"
      ],
      "text/plain": [
       "[(3000001L, 98L, 98L)]"
      ]
     },
     "execution_count": 112,
     "metadata": {},
     "output_type": "execute_result"
    }
   ],
   "source": [
    "%%sql\n",
    "select  count(*) as nb_cubes\n",
    "        ,sum(case when ST_3DDWithin(obj_geom, ST_MakePoint(:refX, :refY, :refZ),:distance) then 1 else 0 end) as nb_within\n",
    "        ,sum(case when ST_3DDWithin(obj_geom, ST_MakePoint(:refX, :refY, :refZ),:distance) and\n",
    "        \t\t       (obj_geom &&& ST_MakeLine(ST_MakePoint(:llx, :lly, :llz),ST_MakePoint(:urx, :ury, :urz))) \n",
    "        \t      then 1  else 0 end) as nb_within_optimized\n",
    "from cube;"
   ]
  },
  {
   "cell_type": "markdown",
   "metadata": {},
   "source": [
    "Strategy for DAO implementation of two query types:\n",
    "---------------------------------------------------\n",
    "\n",
    "**1) Find all objects within a certain distance from a given \"RefPoint\"**\n"
   ]
  },
  {
   "cell_type": "code",
   "execution_count": 113,
   "metadata": {
    "collapsed": false
   },
   "outputs": [
    {
     "name": "stdout",
     "output_type": "stream",
     "text": [
      "98 rows affected.\n"
     ]
    },
    {
     "data": {
      "text/html": [
       "<table>\n",
       "    <tr>\n",
       "        <th>id</th>\n",
       "        <th>name</th>\n",
       "        <th>distance</th>\n",
       "    </tr>\n",
       "    <tr>\n",
       "        <td>1658427</td>\n",
       "        <td>cube at (9913.65, 9932.07, 10019.07)</td>\n",
       "        <td>105.730173207</td>\n",
       "    </tr>\n",
       "    <tr>\n",
       "        <td>326548</td>\n",
       "        <td>cube at (9839.67, 10173.53, 9994.02)</td>\n",
       "        <td>235.164882207</td>\n",
       "    </tr>\n",
       "    <tr>\n",
       "        <td>769791</td>\n",
       "        <td>cube at (10170.61, 9825.73, 9803.09)</td>\n",
       "        <td>312.3802737</td>\n",
       "    </tr>\n",
       "    <tr>\n",
       "        <td>2519024</td>\n",
       "        <td>cube at (10154.62, 9646.54, 10065.74)</td>\n",
       "        <td>390.164870022</td>\n",
       "    </tr>\n",
       "    <tr>\n",
       "        <td>827249</td>\n",
       "        <td>cube at (9621.09, 9924.41, 9866.67)</td>\n",
       "        <td>403.354307595</td>\n",
       "    </tr>\n",
       "    <tr>\n",
       "        <td>1521223</td>\n",
       "        <td>cube at (9785.25, 10306.28, 9819.62)</td>\n",
       "        <td>411.202632764</td>\n",
       "    </tr>\n",
       "    <tr>\n",
       "        <td>1249381</td>\n",
       "        <td>cube at (10194.80, 10142.91, 9580.67)</td>\n",
       "        <td>479.842791919</td>\n",
       "    </tr>\n",
       "    <tr>\n",
       "        <td>1556862</td>\n",
       "        <td>cube at (10422.79, 10113.21, 10217.34)</td>\n",
       "        <td>488.678124842</td>\n",
       "    </tr>\n",
       "    <tr>\n",
       "        <td>2452512</td>\n",
       "        <td>cube at (10261.17, 9581.43, 9988.69)</td>\n",
       "        <td>489.252222961</td>\n",
       "    </tr>\n",
       "    <tr>\n",
       "        <td>984135</td>\n",
       "        <td>cube at (10249.81, 10212.57, 10366.69)</td>\n",
       "        <td>491.989233481</td>\n",
       "    </tr>\n",
       "    <tr>\n",
       "        <td>1693895</td>\n",
       "        <td>cube at (10002.05, 9950.29, 9498.74)</td>\n",
       "        <td>503.221676025</td>\n",
       "    </tr>\n",
       "    <tr>\n",
       "        <td>14559</td>\n",
       "        <td>cube at (9852.08, 10497.26, 10134.80)</td>\n",
       "        <td>535.252654508</td>\n",
       "    </tr>\n",
       "    <tr>\n",
       "        <td>1334033</td>\n",
       "        <td>cube at (10168.50, 9529.63, 10247.17)</td>\n",
       "        <td>553.523254883</td>\n",
       "    </tr>\n",
       "    <tr>\n",
       "        <td>723953</td>\n",
       "        <td>cube at (9686.42, 10087.00, 9543.95)</td>\n",
       "        <td>557.710814808</td>\n",
       "    </tr>\n",
       "    <tr>\n",
       "        <td>1024471</td>\n",
       "        <td>cube at (9813.44, 10532.92, 9877.37)</td>\n",
       "        <td>575.768512157</td>\n",
       "    </tr>\n",
       "    <tr>\n",
       "        <td>249061</td>\n",
       "        <td>cube at (9725.14, 9552.73, 9720.88)</td>\n",
       "        <td>593.614890329</td>\n",
       "    </tr>\n",
       "    <tr>\n",
       "        <td>1314200</td>\n",
       "        <td>cube at (9445.00, 9978.90, 10231.54)</td>\n",
       "        <td>601.343198568</td>\n",
       "    </tr>\n",
       "    <tr>\n",
       "        <td>2438567</td>\n",
       "        <td>cube at (9832.39, 10090.53, 10571.90)</td>\n",
       "        <td>601.539288578</td>\n",
       "    </tr>\n",
       "    <tr>\n",
       "        <td>2229956</td>\n",
       "        <td>cube at (10564.43, 10205.29, 10053.11)</td>\n",
       "        <td>602.947171567</td>\n",
       "    </tr>\n",
       "    <tr>\n",
       "        <td>1144458</td>\n",
       "        <td>cube at (9480.46, 10303.40, 10142.58)</td>\n",
       "        <td>617.859674766</td>\n",
       "    </tr>\n",
       "    <tr>\n",
       "        <td>1882361</td>\n",
       "        <td>cube at (9387.66, 9858.39, 10147.07)</td>\n",
       "        <td>639.958735173</td>\n",
       "    </tr>\n",
       "    <tr>\n",
       "        <td>2509188</td>\n",
       "        <td>cube at (10554.16, 10320.67, 9962.49)</td>\n",
       "        <td>641.242685793</td>\n",
       "    </tr>\n",
       "    <tr>\n",
       "        <td>2725230</td>\n",
       "        <td>cube at (9501.12, 9980.17, 10415.59)</td>\n",
       "        <td>648.225701566</td>\n",
       "    </tr>\n",
       "    <tr>\n",
       "        <td>2280679</td>\n",
       "        <td>cube at (10338.41, 10549.17, 10127.72)</td>\n",
       "        <td>657.58936718</td>\n",
       "    </tr>\n",
       "    <tr>\n",
       "        <td>2815278</td>\n",
       "        <td>cube at (10323.87, 9785.61, 9467.73)</td>\n",
       "        <td>658.242106086</td>\n",
       "    </tr>\n",
       "    <tr>\n",
       "        <td>2294515</td>\n",
       "        <td>cube at (10627.14, 10236.87, 10009.40)</td>\n",
       "        <td>670.450929899</td>\n",
       "    </tr>\n",
       "    <tr>\n",
       "        <td>2299591</td>\n",
       "        <td>cube at (10567.21, 9615.10, 10091.81)</td>\n",
       "        <td>689.259271959</td>\n",
       "    </tr>\n",
       "    <tr>\n",
       "        <td>1157294</td>\n",
       "        <td>cube at (9627.77, 9811.57, 9424.95)</td>\n",
       "        <td>706.727235057</td>\n",
       "    </tr>\n",
       "    <tr>\n",
       "        <td>1751378</td>\n",
       "        <td>cube at (10474.21, 9673.61, 10413.55)</td>\n",
       "        <td>707.960768794</td>\n",
       "    </tr>\n",
       "    <tr>\n",
       "        <td>585233</td>\n",
       "        <td>cube at (10083.11, 9983.56, 10710.97)</td>\n",
       "        <td>715.909173029</td>\n",
       "    </tr>\n",
       "    <tr>\n",
       "        <td>1727438</td>\n",
       "        <td>cube at (10081.48, 10235.13, 10674.64)</td>\n",
       "        <td>719.071484155</td>\n",
       "    </tr>\n",
       "    <tr>\n",
       "        <td>1693787</td>\n",
       "        <td>cube at (10707.69, 9889.06, 9931.29)</td>\n",
       "        <td>719.484161279</td>\n",
       "    </tr>\n",
       "    <tr>\n",
       "        <td>709467</td>\n",
       "        <td>cube at (9951.38, 9689.84, 10650.54)</td>\n",
       "        <td>721.485057766</td>\n",
       "    </tr>\n",
       "    <tr>\n",
       "        <td>437185</td>\n",
       "        <td>cube at (9970.03, 9884.70, 9283.28)</td>\n",
       "        <td>722.875540078</td>\n",
       "    </tr>\n",
       "    <tr>\n",
       "        <td>1488418</td>\n",
       "        <td>cube at (9427.16, 9568.82, 10183.32)</td>\n",
       "        <td>733.9224389</td>\n",
       "    </tr>\n",
       "    <tr>\n",
       "        <td>1343965</td>\n",
       "        <td>cube at (10236.42, 10665.11, 10207.83)</td>\n",
       "        <td>735.842130961</td>\n",
       "    </tr>\n",
       "    <tr>\n",
       "        <td>1545153</td>\n",
       "        <td>cube at (10435.76, 10584.24, 10103.50)</td>\n",
       "        <td>736.161404985</td>\n",
       "    </tr>\n",
       "    <tr>\n",
       "        <td>1221580</td>\n",
       "        <td>cube at (9981.13, 9850.30, 10722.49)</td>\n",
       "        <td>737.323060092</td>\n",
       "    </tr>\n",
       "    <tr>\n",
       "        <td>1416047</td>\n",
       "        <td>cube at (9613.74, 10308.14, 10559.81)</td>\n",
       "        <td>745.279926851</td>\n",
       "    </tr>\n",
       "    <tr>\n",
       "        <td>243890</td>\n",
       "        <td>cube at (10049.67, 10729.86, 9844.03)</td>\n",
       "        <td>747.271614777</td>\n",
       "    </tr>\n",
       "    <tr>\n",
       "        <td>58048</td>\n",
       "        <td>cube at (10158.77, 10396.80, 9371.18)</td>\n",
       "        <td>759.59324268</td>\n",
       "    </tr>\n",
       "    <tr>\n",
       "        <td>788380</td>\n",
       "        <td>cube at (10250.62, 9280.84, 9903.01)</td>\n",
       "        <td>766.305649652</td>\n",
       "    </tr>\n",
       "    <tr>\n",
       "        <td>307253</td>\n",
       "        <td>cube at (9328.59, 10240.63, 10303.68)</td>\n",
       "        <td>772.648606374</td>\n",
       "    </tr>\n",
       "    <tr>\n",
       "        <td>2337405</td>\n",
       "        <td>cube at (10022.23, 9547.31, 9366.02)</td>\n",
       "        <td>773.417370682</td>\n",
       "    </tr>\n",
       "    <tr>\n",
       "        <td>1491822</td>\n",
       "        <td>cube at (9813.13, 10258.25, 10707.27)</td>\n",
       "        <td>774.72937337</td>\n",
       "    </tr>\n",
       "    <tr>\n",
       "        <td>1083968</td>\n",
       "        <td>cube at (10467.74, 10620.17, 10010.51)</td>\n",
       "        <td>776.848991587</td>\n",
       "    </tr>\n",
       "    <tr>\n",
       "        <td>2887157</td>\n",
       "        <td>cube at (10159.89, 10705.70, 9710.75)</td>\n",
       "        <td>778.097041323</td>\n",
       "    </tr>\n",
       "    <tr>\n",
       "        <td>1923266</td>\n",
       "        <td>cube at (10276.71, 9861.51, 10716.70)</td>\n",
       "        <td>780.444262391</td>\n",
       "    </tr>\n",
       "    <tr>\n",
       "        <td>1099207</td>\n",
       "        <td>cube at (10566.88, 10517.57, 10156.03)</td>\n",
       "        <td>783.31279676</td>\n",
       "    </tr>\n",
       "    <tr>\n",
       "        <td>1842663</td>\n",
       "        <td>cube at (9771.22, 10464.55, 10594.20)</td>\n",
       "        <td>787.33787901</td>\n",
       "    </tr>\n",
       "    <tr>\n",
       "        <td>1608105</td>\n",
       "        <td>cube at (10649.66, 9915.18, 9551.61)</td>\n",
       "        <td>791.95087181</td>\n",
       "    </tr>\n",
       "    <tr>\n",
       "        <td>2626165</td>\n",
       "        <td>cube at (10515.33, 9395.40, 10054.48)</td>\n",
       "        <td>794.369977049</td>\n",
       "    </tr>\n",
       "    <tr>\n",
       "        <td>2266941</td>\n",
       "        <td>cube at (9234.35, 9835.02, 9833.25)</td>\n",
       "        <td>794.879890258</td>\n",
       "    </tr>\n",
       "    <tr>\n",
       "        <td>831647</td>\n",
       "        <td>cube at (10351.56, 9283.56, 10016.01)</td>\n",
       "        <td>795.345548177</td>\n",
       "    </tr>\n",
       "    <tr>\n",
       "        <td>1642207</td>\n",
       "        <td>cube at (9810.28, 9348.32, 9569.73)</td>\n",
       "        <td>801.783153876</td>\n",
       "    </tr>\n",
       "    <tr>\n",
       "        <td>1797569</td>\n",
       "        <td>cube at (9382.44, 10433.91, 10294.23)</td>\n",
       "        <td>808.325786624</td>\n",
       "    </tr>\n",
       "    <tr>\n",
       "        <td>749192</td>\n",
       "        <td>cube at (9670.25, 9270.36, 9808.82)</td>\n",
       "        <td>816.823724614</td>\n",
       "    </tr>\n",
       "    <tr>\n",
       "        <td>1445509</td>\n",
       "        <td>cube at (9407.80, 10162.11, 9443.54)</td>\n",
       "        <td>822.443885408</td>\n",
       "    </tr>\n",
       "    <tr>\n",
       "        <td>2886669</td>\n",
       "        <td>cube at (9367.95, 10387.66, 10382.24)</td>\n",
       "        <td>831.953345624</td>\n",
       "    </tr>\n",
       "    <tr>\n",
       "        <td>2460812</td>\n",
       "        <td>cube at (9178.03, 9887.75, 10148.66)</td>\n",
       "        <td>838.403934969</td>\n",
       "    </tr>\n",
       "    <tr>\n",
       "        <td>2468596</td>\n",
       "        <td>cube at (9999.40, 10042.00, 9153.98)</td>\n",
       "        <td>844.257308562</td>\n",
       "    </tr>\n",
       "    <tr>\n",
       "        <td>1390788</td>\n",
       "        <td>cube at (10678.60, 10207.22, 10463.68)</td>\n",
       "        <td>847.608650375</td>\n",
       "    </tr>\n",
       "    <tr>\n",
       "        <td>1536702</td>\n",
       "        <td>cube at (9372.58, 9454.17, 9808.34)</td>\n",
       "        <td>852.013649949</td>\n",
       "    </tr>\n",
       "    <tr>\n",
       "        <td>2155612</td>\n",
       "        <td>cube at (10420.62, 9684.63, 9322.04)</td>\n",
       "        <td>855.990853281</td>\n",
       "    </tr>\n",
       "    <tr>\n",
       "        <td>43733</td>\n",
       "        <td>cube at (9651.50, 9302.84, 9628.79)</td>\n",
       "        <td>860.643608222</td>\n",
       "    </tr>\n",
       "    <tr>\n",
       "        <td>2251049</td>\n",
       "        <td>cube at (9844.70, 10673.77, 10514.10)</td>\n",
       "        <td>861.179781778</td>\n",
       "    </tr>\n",
       "    <tr>\n",
       "        <td>2216102</td>\n",
       "        <td>cube at (10496.34, 10135.50, 9301.50)</td>\n",
       "        <td>867.518710243</td>\n",
       "    </tr>\n",
       "    <tr>\n",
       "        <td>2443216</td>\n",
       "        <td>cube at (10369.84, 10566.86, 10546.98)</td>\n",
       "        <td>870.232752719</td>\n",
       "    </tr>\n",
       "    <tr>\n",
       "        <td>1900280</td>\n",
       "        <td>cube at (10362.44, 10786.13, 10108.30)</td>\n",
       "        <td>872.407124984</td>\n",
       "    </tr>\n",
       "    <tr>\n",
       "        <td>2254042</td>\n",
       "        <td>cube at (9253.06, 9528.92, 10006.09)</td>\n",
       "        <td>877.811515132</td>\n",
       "    </tr>\n",
       "    <tr>\n",
       "        <td>2893603</td>\n",
       "        <td>cube at (9885.93, 9716.80, 10831.39)</td>\n",
       "        <td>884.552839703</td>\n",
       "    </tr>\n",
       "    <tr>\n",
       "        <td>2401435</td>\n",
       "        <td>cube at (10241.96, 10740.49, 10424.69)</td>\n",
       "        <td>887.260391101</td>\n",
       "    </tr>\n",
       "    <tr>\n",
       "        <td>1586774</td>\n",
       "        <td>cube at (9678.68, 10796.39, 10230.67)</td>\n",
       "        <td>889.037730043</td>\n",
       "    </tr>\n",
       "    <tr>\n",
       "        <td>851071</td>\n",
       "        <td>cube at (9676.42, 9222.73, 9707.95)</td>\n",
       "        <td>889.891811584</td>\n",
       "    </tr>\n",
       "    <tr>\n",
       "        <td>2860024</td>\n",
       "        <td>cube at (10154.59, 9243.46, 10457.21)</td>\n",
       "        <td>895.336101189</td>\n",
       "    </tr>\n",
       "    <tr>\n",
       "        <td>323230</td>\n",
       "        <td>cube at (10215.40, 10664.47, 10569.03)</td>\n",
       "        <td>900.953482937</td>\n",
       "    </tr>\n",
       "    <tr>\n",
       "        <td>2948404</td>\n",
       "        <td>cube at (10223.37, 9725.81, 9157.34)</td>\n",
       "        <td>908.158466216</td>\n",
       "    </tr>\n",
       "    <tr>\n",
       "        <td>1009500</td>\n",
       "        <td>cube at (10479.03, 10689.69, 9651.97)</td>\n",
       "        <td>908.412753282</td>\n",
       "    </tr>\n",
       "    <tr>\n",
       "        <td>1579029</td>\n",
       "        <td>cube at (10157.22, 9211.21, 9563.50)</td>\n",
       "        <td>910.277523833</td>\n",
       "    </tr>\n",
       "    <tr>\n",
       "        <td>1386041</td>\n",
       "        <td>cube at (10528.58, 9781.74, 9287.83)</td>\n",
       "        <td>912.337575055</td>\n",
       "    </tr>\n",
       "    <tr>\n",
       "        <td>2338790</td>\n",
       "        <td>cube at (10399.00, 9419.07, 10587.00)</td>\n",
       "        <td>915.041023297</td>\n",
       "    </tr>\n",
       "    <tr>\n",
       "        <td>998170</td>\n",
       "        <td>cube at (9879.00, 9215.04, 10470.09)</td>\n",
       "        <td>919.697856999</td>\n",
       "    </tr>\n",
       "    <tr>\n",
       "        <td>2449145</td>\n",
       "        <td>cube at (10678.45, 9710.30, 9441.76)</td>\n",
       "        <td>921.020504009</td>\n",
       "    </tr>\n",
       "    <tr>\n",
       "        <td>1888837</td>\n",
       "        <td>cube at (10813.91, 9605.55, 10203.57)</td>\n",
       "        <td>925.519296984</td>\n",
       "    </tr>\n",
       "    <tr>\n",
       "        <td>778413</td>\n",
       "        <td>cube at (9700.90, 10134.75, 9133.05)</td>\n",
       "        <td>925.782354109</td>\n",
       "    </tr>\n",
       "    <tr>\n",
       "        <td>2053803</td>\n",
       "        <td>cube at (10860.37, 10346.72, 9921.46)</td>\n",
       "        <td>930.557398086</td>\n",
       "    </tr>\n",
       "    <tr>\n",
       "        <td>138540</td>\n",
       "        <td>cube at (9815.89, 10880.92, 10277.19)</td>\n",
       "        <td>941.354732044</td>\n",
       "    </tr>\n",
       "    <tr>\n",
       "        <td>997981</td>\n",
       "        <td>cube at (9081.93, 10238.13, 10065.47)</td>\n",
       "        <td>947.068001644</td>\n",
       "    </tr>\n",
       "    <tr>\n",
       "        <td>497702</td>\n",
       "        <td>cube at (10544.19, 10779.63, 10040.37)</td>\n",
       "        <td>951.629612516</td>\n",
       "    </tr>\n",
       "    <tr>\n",
       "        <td>533395</td>\n",
       "        <td>cube at (9216.76, 10553.43, 9887.51)</td>\n",
       "        <td>962.979218922</td>\n",
       "    </tr>\n",
       "    <tr>\n",
       "        <td>1575086</td>\n",
       "        <td>cube at (9997.05, 10402.29, 9120.08)</td>\n",
       "        <td>963.311083708</td>\n",
       "    </tr>\n",
       "    <tr>\n",
       "        <td>406926</td>\n",
       "        <td>cube at (10565.14, 9913.50, 9214.37)</td>\n",
       "        <td>967.809307134</td>\n",
       "    </tr>\n",
       "    <tr>\n",
       "        <td>319782</td>\n",
       "        <td>cube at (9757.69, 10513.19, 10792.71)</td>\n",
       "        <td>974.061975833</td>\n",
       "    </tr>\n",
       "    <tr>\n",
       "        <td>2868098</td>\n",
       "        <td>cube at (10362.73, 9765.29, 10880.05)</td>\n",
       "        <td>979.92442002</td>\n",
       "    </tr>\n",
       "    <tr>\n",
       "        <td>1256929</td>\n",
       "        <td>cube at (9702.49, 9069.62, 9878.66)</td>\n",
       "        <td>983.15823805</td>\n",
       "    </tr>\n",
       "    <tr>\n",
       "        <td>593775</td>\n",
       "        <td>cube at (9015.72, 9952.26, 10056.15)</td>\n",
       "        <td>984.405311971</td>\n",
       "    </tr>\n",
       "    <tr>\n",
       "        <td>1403037</td>\n",
       "        <td>cube at (10778.13, 9514.27, 9616.77)</td>\n",
       "        <td>991.988273624</td>\n",
       "    </tr>\n",
       "    <tr>\n",
       "        <td>994406</td>\n",
       "        <td>cube at (10958.24, 10109.24, 9762.43)</td>\n",
       "        <td>992.824259651</td>\n",
       "    </tr>\n",
       "</table>"
      ],
      "text/plain": [
       "[(1658427, u'cube at (9913.65, 9932.07, 10019.07)', 105.730173206731),\n",
       " (326548, u'cube at (9839.67, 10173.53, 9994.02)', 235.164882207249),\n",
       " (769791, u'cube at (10170.61, 9825.73, 9803.09)', 312.380273700302),\n",
       " (2519024, u'cube at (10154.62, 9646.54, 10065.74)', 390.164870022047),\n",
       " (827249, u'cube at (9621.09, 9924.41, 9866.67)', 403.354307594981),\n",
       " (1521223, u'cube at (9785.25, 10306.28, 9819.62)', 411.20263276383),\n",
       " (1249381, u'cube at (10194.80, 10142.91, 9580.67)', 479.842791918503),\n",
       " (1556862, u'cube at (10422.79, 10113.21, 10217.34)', 488.678124842458),\n",
       " (2452512, u'cube at (10261.17, 9581.43, 9988.69)', 489.252222960645),\n",
       " (984135, u'cube at (10249.81, 10212.57, 10366.69)', 491.989233481311),\n",
       " (1693895, u'cube at (10002.05, 9950.29, 9498.74)', 503.221676025063),\n",
       " (14559, u'cube at (9852.08, 10497.26, 10134.80)', 535.252654508144),\n",
       " (1334033, u'cube at (10168.50, 9529.63, 10247.17)', 553.52325488338),\n",
       " (723953, u'cube at (9686.42, 10087.00, 9543.95)', 557.710814807973),\n",
       " (1024471, u'cube at (9813.44, 10532.92, 9877.37)', 575.768512156783),\n",
       " (249061, u'cube at (9725.14, 9552.73, 9720.88)', 593.614890328537),\n",
       " (1314200, u'cube at (9445.00, 9978.90, 10231.54)', 601.343198567967),\n",
       " (2438567, u'cube at (9832.39, 10090.53, 10571.90)', 601.539288577816),\n",
       " (2229956, u'cube at (10564.43, 10205.29, 10053.11)', 602.947171567298),\n",
       " (1144458, u'cube at (9480.46, 10303.40, 10142.58)', 617.859674766188),\n",
       " (1882361, u'cube at (9387.66, 9858.39, 10147.07)', 639.958735173407),\n",
       " (2509188, u'cube at (10554.16, 10320.67, 9962.49)', 641.242685792521),\n",
       " (2725230, u'cube at (9501.12, 9980.17, 10415.59)', 648.225701566229),\n",
       " (2280679, u'cube at (10338.41, 10549.17, 10127.72)', 657.58936717976),\n",
       " (2815278, u'cube at (10323.87, 9785.61, 9467.73)', 658.242106086397),\n",
       " (2294515, u'cube at (10627.14, 10236.87, 10009.40)', 670.450929898718),\n",
       " (2299591, u'cube at (10567.21, 9615.10, 10091.81)', 689.259271959432),\n",
       " (1157294, u'cube at (9627.77, 9811.57, 9424.95)', 706.7272350572),\n",
       " (1751378, u'cube at (10474.21, 9673.61, 10413.55)', 707.960768793537),\n",
       " (585233, u'cube at (10083.11, 9983.56, 10710.97)', 715.9091730288),\n",
       " (1727438, u'cube at (10081.48, 10235.13, 10674.64)', 719.071484155107),\n",
       " (1693787, u'cube at (10707.69, 9889.06, 9931.29)', 719.484161279284),\n",
       " (709467, u'cube at (9951.38, 9689.84, 10650.54)', 721.485057766182),\n",
       " (437185, u'cube at (9970.03, 9884.70, 9283.28)', 722.875540077647),\n",
       " (1488418, u'cube at (9427.16, 9568.82, 10183.32)', 733.92243889964),\n",
       " (1343965, u'cube at (10236.42, 10665.11, 10207.83)', 735.84213096052),\n",
       " (1545153, u'cube at (10435.76, 10584.24, 10103.50)', 736.161404984525),\n",
       " (1221580, u'cube at (9981.13, 9850.30, 10722.49)', 737.323060091521),\n",
       " (1416047, u'cube at (9613.74, 10308.14, 10559.81)', 745.279926850678),\n",
       " (243890, u'cube at (10049.67, 10729.86, 9844.03)', 747.27161477705),\n",
       " (58048, u'cube at (10158.77, 10396.80, 9371.18)', 759.593242680162),\n",
       " (788380, u'cube at (10250.62, 9280.84, 9903.01)', 766.305649652311),\n",
       " (307253, u'cube at (9328.59, 10240.63, 10303.68)', 772.648606374275),\n",
       " (2337405, u'cube at (10022.23, 9547.31, 9366.02)', 773.417370682256),\n",
       " (1491822, u'cube at (9813.13, 10258.25, 10707.27)', 774.729373370481),\n",
       " (1083968, u'cube at (10467.74, 10620.17, 10010.51)', 776.848991586521),\n",
       " (2887157, u'cube at (10159.89, 10705.70, 9710.75)', 778.097041322693),\n",
       " (1923266, u'cube at (10276.71, 9861.51, 10716.70)', 780.444262390719),\n",
       " (1099207, u'cube at (10566.88, 10517.57, 10156.03)', 783.312796759806),\n",
       " (1842663, u'cube at (9771.22, 10464.55, 10594.20)', 787.337879009773),\n",
       " (1608105, u'cube at (10649.66, 9915.18, 9551.61)', 791.950871810128),\n",
       " (2626165, u'cube at (10515.33, 9395.40, 10054.48)', 794.369977049344),\n",
       " (2266941, u'cube at (9234.35, 9835.02, 9833.25)', 794.879890257991),\n",
       " (831647, u'cube at (10351.56, 9283.56, 10016.01)', 795.345548176848),\n",
       " (1642207, u'cube at (9810.28, 9348.32, 9569.73)', 801.783153876337),\n",
       " (1797569, u'cube at (9382.44, 10433.91, 10294.23)', 808.325786623914),\n",
       " (749192, u'cube at (9670.25, 9270.36, 9808.82)', 816.823724614187),\n",
       " (1445509, u'cube at (9407.80, 10162.11, 9443.54)', 822.443885408077),\n",
       " (2886669, u'cube at (9367.95, 10387.66, 10382.24)', 831.953345623931),\n",
       " (2460812, u'cube at (9178.03, 9887.75, 10148.66)', 838.403934969234),\n",
       " (2468596, u'cube at (9999.40, 10042.00, 9153.98)', 844.257308562383),\n",
       " (1390788, u'cube at (10678.60, 10207.22, 10463.68)', 847.608650374667),\n",
       " (1536702, u'cube at (9372.58, 9454.17, 9808.34)', 852.01364994856),\n",
       " (2155612, u'cube at (10420.62, 9684.63, 9322.04)', 855.990853280635),\n",
       " (43733, u'cube at (9651.50, 9302.84, 9628.79)', 860.64360822234),\n",
       " (2251049, u'cube at (9844.70, 10673.77, 10514.10)', 861.179781778118),\n",
       " (2216102, u'cube at (10496.34, 10135.50, 9301.50)', 867.518710243437),\n",
       " (2443216, u'cube at (10369.84, 10566.86, 10546.98)', 870.232752718798),\n",
       " (1900280, u'cube at (10362.44, 10786.13, 10108.30)', 872.407124983831),\n",
       " (2254042, u'cube at (9253.06, 9528.92, 10006.09)', 877.811515131629),\n",
       " (2893603, u'cube at (9885.93, 9716.80, 10831.39)', 884.552839702512),\n",
       " (2401435, u'cube at (10241.96, 10740.49, 10424.69)', 887.260391100851),\n",
       " (1586774, u'cube at (9678.68, 10796.39, 10230.67)', 889.037730043389),\n",
       " (851071, u'cube at (9676.42, 9222.73, 9707.95)', 889.891811583907),\n",
       " (2860024, u'cube at (10154.59, 9243.46, 10457.21)', 895.336101189052),\n",
       " (323230, u'cube at (10215.40, 10664.47, 10569.03)', 900.953482936612),\n",
       " (2948404, u'cube at (10223.37, 9725.81, 9157.34)', 908.158466216459),\n",
       " (1009500, u'cube at (10479.03, 10689.69, 9651.97)', 908.412753281617),\n",
       " (1579029, u'cube at (10157.22, 9211.21, 9563.50)', 910.277523832766),\n",
       " (1386041, u'cube at (10528.58, 9781.74, 9287.83)', 912.337575055399),\n",
       " (2338790, u'cube at (10399.00, 9419.07, 10587.00)', 915.041023296611),\n",
       " (998170, u'cube at (9879.00, 9215.04, 10470.09)', 919.697856998925),\n",
       " (2449145, u'cube at (10678.45, 9710.30, 9441.76)', 921.020504009127),\n",
       " (1888837, u'cube at (10813.91, 9605.55, 10203.57)', 925.519296984077),\n",
       " (778413, u'cube at (9700.90, 10134.75, 9133.05)', 925.782354108515),\n",
       " (2053803, u'cube at (10860.37, 10346.72, 9921.46)', 930.557398085916),\n",
       " (138540, u'cube at (9815.89, 10880.92, 10277.19)', 941.354732043834),\n",
       " (997981, u'cube at (9081.93, 10238.13, 10065.47)', 947.06800164398),\n",
       " (497702, u'cube at (10544.19, 10779.63, 10040.37)', 951.629612516413),\n",
       " (533395, u'cube at (9216.76, 10553.43, 9887.51)', 962.979218922241),\n",
       " (1575086, u'cube at (9997.05, 10402.29, 9120.08)', 963.311083707586),\n",
       " (406926, u'cube at (10565.14, 9913.50, 9214.37)', 967.809307134449),\n",
       " (319782, u'cube at (9757.69, 10513.19, 10792.71)', 974.06197583325),\n",
       " (2868098, u'cube at (10362.73, 9765.29, 10880.05)', 979.924420019763),\n",
       " (1256929, u'cube at (9702.49, 9069.62, 9878.66)', 983.158238049611),\n",
       " (593775, u'cube at (9015.72, 9952.26, 10056.15)', 984.405311970808),\n",
       " (1403037, u'cube at (10778.13, 9514.27, 9616.77)', 991.988273624317),\n",
       " (994406, u'cube at (10958.24, 10109.24, 9762.43)', 992.824259650723)]"
      ]
     },
     "execution_count": 113,
     "metadata": {},
     "output_type": "execute_result"
    }
   ],
   "source": [
    "%%sql\n",
    "select id, name, ST_3DDistance(obj_geom, ST_MakePoint(:refX, :refY, :refZ)) as distance\n",
    "from cube\n",
    "where ST_3DDWithin(obj_geom, ST_MakePoint(:refX, :refY, :refZ), :distance)\n",
    "and obj_geom &&& ST_MakeLine(ST_MakePoint(:llx, :lly, :llz), ST_MakePoint(:urx, :ury, :urz))\n",
    "order by distance;"
   ]
  },
  {
   "cell_type": "markdown",
   "metadata": {},
   "source": [
    "**2) Find n closest objects from a given \"RefPoint\"**"
   ]
  },
  {
   "cell_type": "code",
   "execution_count": 114,
   "metadata": {
    "collapsed": false
   },
   "outputs": [],
   "source": [
    "limit_nb = 15"
   ]
  },
  {
   "cell_type": "code",
   "execution_count": 115,
   "metadata": {
    "collapsed": false
   },
   "outputs": [
    {
     "name": "stdout",
     "output_type": "stream",
     "text": [
      "15 rows affected.\n"
     ]
    },
    {
     "data": {
      "text/html": [
       "<table>\n",
       "    <tr>\n",
       "        <th>id</th>\n",
       "        <th>name</th>\n",
       "        <th>distance</th>\n",
       "    </tr>\n",
       "    <tr>\n",
       "        <td>1658427</td>\n",
       "        <td>cube at (9913.65, 9932.07, 10019.07)</td>\n",
       "        <td>105.730173207</td>\n",
       "    </tr>\n",
       "    <tr>\n",
       "        <td>326548</td>\n",
       "        <td>cube at (9839.67, 10173.53, 9994.02)</td>\n",
       "        <td>235.164882207</td>\n",
       "    </tr>\n",
       "    <tr>\n",
       "        <td>769791</td>\n",
       "        <td>cube at (10170.61, 9825.73, 9803.09)</td>\n",
       "        <td>312.3802737</td>\n",
       "    </tr>\n",
       "    <tr>\n",
       "        <td>2519024</td>\n",
       "        <td>cube at (10154.62, 9646.54, 10065.74)</td>\n",
       "        <td>390.164870022</td>\n",
       "    </tr>\n",
       "    <tr>\n",
       "        <td>827249</td>\n",
       "        <td>cube at (9621.09, 9924.41, 9866.67)</td>\n",
       "        <td>403.354307595</td>\n",
       "    </tr>\n",
       "    <tr>\n",
       "        <td>1521223</td>\n",
       "        <td>cube at (9785.25, 10306.28, 9819.62)</td>\n",
       "        <td>411.202632764</td>\n",
       "    </tr>\n",
       "    <tr>\n",
       "        <td>1249381</td>\n",
       "        <td>cube at (10194.80, 10142.91, 9580.67)</td>\n",
       "        <td>479.842791919</td>\n",
       "    </tr>\n",
       "    <tr>\n",
       "        <td>1556862</td>\n",
       "        <td>cube at (10422.79, 10113.21, 10217.34)</td>\n",
       "        <td>488.678124842</td>\n",
       "    </tr>\n",
       "    <tr>\n",
       "        <td>2452512</td>\n",
       "        <td>cube at (10261.17, 9581.43, 9988.69)</td>\n",
       "        <td>489.252222961</td>\n",
       "    </tr>\n",
       "    <tr>\n",
       "        <td>984135</td>\n",
       "        <td>cube at (10249.81, 10212.57, 10366.69)</td>\n",
       "        <td>491.989233481</td>\n",
       "    </tr>\n",
       "    <tr>\n",
       "        <td>1693895</td>\n",
       "        <td>cube at (10002.05, 9950.29, 9498.74)</td>\n",
       "        <td>503.221676025</td>\n",
       "    </tr>\n",
       "    <tr>\n",
       "        <td>14559</td>\n",
       "        <td>cube at (9852.08, 10497.26, 10134.80)</td>\n",
       "        <td>535.252654508</td>\n",
       "    </tr>\n",
       "    <tr>\n",
       "        <td>1334033</td>\n",
       "        <td>cube at (10168.50, 9529.63, 10247.17)</td>\n",
       "        <td>553.523254883</td>\n",
       "    </tr>\n",
       "    <tr>\n",
       "        <td>723953</td>\n",
       "        <td>cube at (9686.42, 10087.00, 9543.95)</td>\n",
       "        <td>557.710814808</td>\n",
       "    </tr>\n",
       "    <tr>\n",
       "        <td>1024471</td>\n",
       "        <td>cube at (9813.44, 10532.92, 9877.37)</td>\n",
       "        <td>575.768512157</td>\n",
       "    </tr>\n",
       "</table>"
      ],
      "text/plain": [
       "[(1658427, u'cube at (9913.65, 9932.07, 10019.07)', 105.730173206731),\n",
       " (326548, u'cube at (9839.67, 10173.53, 9994.02)', 235.164882207249),\n",
       " (769791, u'cube at (10170.61, 9825.73, 9803.09)', 312.380273700302),\n",
       " (2519024, u'cube at (10154.62, 9646.54, 10065.74)', 390.164870022047),\n",
       " (827249, u'cube at (9621.09, 9924.41, 9866.67)', 403.354307594981),\n",
       " (1521223, u'cube at (9785.25, 10306.28, 9819.62)', 411.20263276383),\n",
       " (1249381, u'cube at (10194.80, 10142.91, 9580.67)', 479.842791918503),\n",
       " (1556862, u'cube at (10422.79, 10113.21, 10217.34)', 488.678124842458),\n",
       " (2452512, u'cube at (10261.17, 9581.43, 9988.69)', 489.252222960645),\n",
       " (984135, u'cube at (10249.81, 10212.57, 10366.69)', 491.989233481311),\n",
       " (1693895, u'cube at (10002.05, 9950.29, 9498.74)', 503.221676025063),\n",
       " (14559, u'cube at (9852.08, 10497.26, 10134.80)', 535.252654508144),\n",
       " (1334033, u'cube at (10168.50, 9529.63, 10247.17)', 553.52325488338),\n",
       " (723953, u'cube at (9686.42, 10087.00, 9543.95)', 557.710814807973),\n",
       " (1024471, u'cube at (9813.44, 10532.92, 9877.37)', 575.768512156783)]"
      ]
     },
     "execution_count": 115,
     "metadata": {},
     "output_type": "execute_result"
    }
   ],
   "source": [
    "%%sql\n",
    "select * from\n",
    "(select id,name,ST_3DDistance(obj_geom, ST_MakePoint(:refX, :refY, :refZ)) as distance\n",
    "from cube\n",
    "order by distance\n",
    "limit :limit_nb) as orderset;"
   ]
  },
  {
   "cell_type": "markdown",
   "metadata": {},
   "source": [
    "Unfortunately, the special <-> operator does not work for 3-D (http://boundlessgeo.com/2011/09/indexed-nearest-neighbour-search-in-postgis/).  This slow query does a full table scan + sort and cannot make use of the spatial index."
   ]
  },
  {
   "cell_type": "code",
   "execution_count": 116,
   "metadata": {
    "collapsed": false
   },
   "outputs": [
    {
     "name": "stdout",
     "output_type": "stream",
     "text": [
      "6 rows affected.\n"
     ]
    },
    {
     "data": {
      "text/html": [
       "<table>\n",
       "    <tr>\n",
       "        <th>QUERY PLAN</th>\n",
       "    </tr>\n",
       "    <tr>\n",
       "        <td>Limit  (cost=1228604.93..1228604.97 rows=15 width=898) (actual time=15752.994..15752.999 rows=15 loops=1)</td>\n",
       "    </tr>\n",
       "    <tr>\n",
       "        <td>&nbsp;&nbsp;-&gt;  Sort  (cost=1228604.93..1236104.93 rows=3000002 width=898) (actual time=15752.992..15752.995 rows=15 loops=1)</td>\n",
       "    </tr>\n",
       "    <tr>\n",
       "        <td>&nbsp;&nbsp;&nbsp;&nbsp;&nbsp;&nbsp;&nbsp;&nbsp;Sort Key: (st_3ddistance(obj_geom, '0101000080000000000088C340000000000088C340000000000088C340'::geometry))</td>\n",
       "    </tr>\n",
       "    <tr>\n",
       "        <td>&nbsp;&nbsp;&nbsp;&nbsp;&nbsp;&nbsp;&nbsp;&nbsp;Sort Method: top-N heapsort  Memory: 27kB</td>\n",
       "    </tr>\n",
       "    <tr>\n",
       "        <td>&nbsp;&nbsp;&nbsp;&nbsp;&nbsp;&nbsp;&nbsp;&nbsp;-&gt;  Seq Scan on cube  (cost=0.00..1155001.52 rows=3000002 width=898) (actual time=0.034..14972.254 rows=3000001 loops=1)</td>\n",
       "    </tr>\n",
       "    <tr>\n",
       "        <td>Total runtime: 15753.032 ms</td>\n",
       "    </tr>\n",
       "</table>"
      ],
      "text/plain": [
       "[(u'Limit  (cost=1228604.93..1228604.97 rows=15 width=898) (actual time=15752.994..15752.999 rows=15 loops=1)',),\n",
       " (u'  ->  Sort  (cost=1228604.93..1236104.93 rows=3000002 width=898) (actual time=15752.992..15752.995 rows=15 loops=1)',),\n",
       " (u\"        Sort Key: (st_3ddistance(obj_geom, '0101000080000000000088C340000000000088C340000000000088C340'::geometry))\",),\n",
       " (u'        Sort Method: top-N heapsort  Memory: 27kB',),\n",
       " (u'        ->  Seq Scan on cube  (cost=0.00..1155001.52 rows=3000002 width=898) (actual time=0.034..14972.254 rows=3000001 loops=1)',),\n",
       " (u'Total runtime: 15753.032 ms',)]"
      ]
     },
     "execution_count": 116,
     "metadata": {},
     "output_type": "execute_result"
    }
   ],
   "source": [
    "%%sql\n",
    "explain analyze \n",
    "select id,name,ST_3DDistance(obj_geom, ST_MakePoint(:refX, :refY, :refZ)) as distance\n",
    "from cube\n",
    "order by distance\n",
    "limit :limit_nb;"
   ]
  },
  {
   "cell_type": "markdown",
   "metadata": {},
   "source": [
    "If needed, we could implement at the DAO layer an iterative approach where we would add both constraints below (both are needed for best perf) and increasing/decreasing distance size as to reach the 'n closest object'"
   ]
  },
  {
   "cell_type": "code",
   "execution_count": 118,
   "metadata": {
    "collapsed": false
   },
   "outputs": [
    {
     "name": "stdout",
     "output_type": "stream",
     "text": [
      "11 rows affected.\n"
     ]
    },
    {
     "data": {
      "text/html": [
       "<table>\n",
       "    <tr>\n",
       "        <th>QUERY PLAN</th>\n",
       "    </tr>\n",
       "    <tr>\n",
       "        <td>Limit  (cost=16784.91..16784.91 rows=1 width=898) (actual time=14.716..14.718 rows=15 loops=1)</td>\n",
       "    </tr>\n",
       "    <tr>\n",
       "        <td>&nbsp;&nbsp;-&gt;  Sort  (cost=16784.91..16784.91 rows=1 width=898) (actual time=14.714..14.715 rows=15 loops=1)</td>\n",
       "    </tr>\n",
       "    <tr>\n",
       "        <td>&nbsp;&nbsp;&nbsp;&nbsp;&nbsp;&nbsp;&nbsp;&nbsp;Sort Key: (st_3ddistance(obj_geom, '0101000080000000000088C340000000000088C340000000000088C340'::geometry))</td>\n",
       "    </tr>\n",
       "    <tr>\n",
       "        <td>&nbsp;&nbsp;&nbsp;&nbsp;&nbsp;&nbsp;&nbsp;&nbsp;Sort Method: top-N heapsort  Memory: 27kB</td>\n",
       "    </tr>\n",
       "    <tr>\n",
       "        <td>&nbsp;&nbsp;&nbsp;&nbsp;&nbsp;&nbsp;&nbsp;&nbsp;-&gt;  Bitmap Heap Scan on cube  (cost=136.17..16784.90 rows=1 width=898) (actual time=3.393..14.624 rows=98 loops=1)</td>\n",
       "    </tr>\n",
       "    <tr>\n",
       "        <td>&nbsp;&nbsp;&nbsp;&nbsp;&nbsp;&nbsp;&nbsp;&nbsp;&nbsp;&nbsp;&nbsp;&nbsp;&nbsp;&nbsp;Recheck Cond: (obj_geom &amp;&amp; '01030000800100000005000000000000000094C140000000000094C140000000000094C140000000000094C14000000000007CC540000000000094C14000000000007CC54000000000007CC54000000000007CC54000000000007CC540000000000094C14000000000007CC540000000000094C140000000000094C140000000000094C140'::geometry)</td>\n",
       "    </tr>\n",
       "    <tr>\n",
       "        <td>&nbsp;&nbsp;&nbsp;&nbsp;&nbsp;&nbsp;&nbsp;&nbsp;&nbsp;&nbsp;&nbsp;&nbsp;&nbsp;&nbsp;Filter: ((obj_geom &amp;&amp;&amp; '010200008002000000000000000094C140000000000094C140000000000094C14000000000007CC54000000000007CC54000000000007CC540'::geometry) AND ('0101000080000000000088C340000000000088C340000000000088C340'::geometry &amp;&amp; st_expand(obj_geom, 1000::double precision)) AND _st_3ddwithin(obj_geom, '0101000080000000000088C340000000000088C340000000000088C340'::geometry, 1000::double precision))</td>\n",
       "    </tr>\n",
       "    <tr>\n",
       "        <td>&nbsp;&nbsp;&nbsp;&nbsp;&nbsp;&nbsp;&nbsp;&nbsp;&nbsp;&nbsp;&nbsp;&nbsp;&nbsp;&nbsp;Rows Removed by Filter: 4715</td>\n",
       "    </tr>\n",
       "    <tr>\n",
       "        <td>&nbsp;&nbsp;&nbsp;&nbsp;&nbsp;&nbsp;&nbsp;&nbsp;&nbsp;&nbsp;&nbsp;&nbsp;&nbsp;&nbsp;-&gt;  Bitmap Index Scan on cubeindex  (cost=0.00..136.17 rows=4234 width=0) (actual time=1.894..1.894 rows=4813 loops=1)</td>\n",
       "    </tr>\n",
       "    <tr>\n",
       "        <td>&nbsp;&nbsp;&nbsp;&nbsp;&nbsp;&nbsp;&nbsp;&nbsp;&nbsp;&nbsp;&nbsp;&nbsp;&nbsp;&nbsp;&nbsp;&nbsp;&nbsp;&nbsp;&nbsp;&nbsp;Index Cond: (obj_geom &amp;&amp; '01030000800100000005000000000000000094C140000000000094C140000000000094C140000000000094C14000000000007CC540000000000094C14000000000007CC54000000000007CC54000000000007CC54000000000007CC540000000000094C14000000000007CC540000000000094C140000000000094C140000000000094C140'::geometry)</td>\n",
       "    </tr>\n",
       "    <tr>\n",
       "        <td>Total runtime: 14.765 ms</td>\n",
       "    </tr>\n",
       "</table>"
      ],
      "text/plain": [
       "[(u'Limit  (cost=16784.91..16784.91 rows=1 width=898) (actual time=14.716..14.718 rows=15 loops=1)',),\n",
       " (u'  ->  Sort  (cost=16784.91..16784.91 rows=1 width=898) (actual time=14.714..14.715 rows=15 loops=1)',),\n",
       " (u\"        Sort Key: (st_3ddistance(obj_geom, '0101000080000000000088C340000000000088C340000000000088C340'::geometry))\",),\n",
       " (u'        Sort Method: top-N heapsort  Memory: 27kB',),\n",
       " (u'        ->  Bitmap Heap Scan on cube  (cost=136.17..16784.90 rows=1 width=898) (actual time=3.393..14.624 rows=98 loops=1)',),\n",
       " (u\"              Recheck Cond: (obj_geom && '01030000800100000005000000000000000094C140000000000094C140000000000094C140000000000094C14000000000007CC540000000000094C14000000000007CC54000000000007CC54000000000007CC54000000000007CC540000000000094C14000000000007CC540000000000094C140000000000094C140000000000094C140'::geometry)\",),\n",
       " (u\"              Filter: ((obj_geom &&& '010200008002000000000000000094C140000000000094C140000000000094C14000000000007CC54000000000007CC54000000000007CC540'::geometry) AND ('0101000080000000000088C340000000000088C340000000000088C340'::geometry && st_expand(obj_geom, 1000::double precision)) AND _st_3ddwithin(obj_geom, '0101000080000000000088C340000000000088C340000000000088C340'::geometry, 1000::double precision))\",),\n",
       " (u'              Rows Removed by Filter: 4715',),\n",
       " (u'              ->  Bitmap Index Scan on cubeindex  (cost=0.00..136.17 rows=4234 width=0) (actual time=1.894..1.894 rows=4813 loops=1)',),\n",
       " (u\"                    Index Cond: (obj_geom && '01030000800100000005000000000000000094C140000000000094C140000000000094C140000000000094C14000000000007CC540000000000094C14000000000007CC54000000000007CC54000000000007CC54000000000007CC540000000000094C14000000000007CC540000000000094C140000000000094C140000000000094C140'::geometry)\",),\n",
       " (u'Total runtime: 14.765 ms',)]"
      ]
     },
     "execution_count": 118,
     "metadata": {},
     "output_type": "execute_result"
    }
   ],
   "source": [
    "%%sql\n",
    "explain analyze \n",
    "select id,name,ST_3DDistance(obj_geom, ST_MakePoint(:refX, :refY, :refZ)) as distance\n",
    "from cube\n",
    "where \n",
    "ST_3DDWithin(obj_geom, ST_MakePoint(:refX, :refY, :refZ),:distance) \n",
    "and (obj_geom &&& ST_MakeLine(ST_MakePoint(:llx, :lly, :llz), ST_MakePoint(:urx, :ury, :urz)))\n",
    "order by distance\n",
    "limit :limit_nb;"
   ]
  },
  {
   "cell_type": "markdown",
   "metadata": {},
   "source": [
    "**To find closest objects from another specified object**\n",
    "\n",
    "The issue here is that ST_Centroid() drops off the Z-coordinate when taking as value the 3D box (either from BOX3d() or ST_3DExtent), so to make this query possible we need to store x,y,z of object centroid explicitly.  \n",
    "\n",
    "Here's implementation given with the cubes test table:"
   ]
  },
  {
   "cell_type": "code",
   "execution_count": 122,
   "metadata": {
    "collapsed": false
   },
   "outputs": [
    {
     "name": "stdout",
     "output_type": "stream",
     "text": [
      "9 rows affected.\n"
     ]
    },
    {
     "data": {
      "text/html": [
       "<table>\n",
       "    <tr>\n",
       "        <th>id</th>\n",
       "        <th>name</th>\n",
       "    </tr>\n",
       "    <tr>\n",
       "        <td>217519</td>\n",
       "        <td>cube at (498.04, 752.12, 2.34)</td>\n",
       "    </tr>\n",
       "    <tr>\n",
       "        <td>653584</td>\n",
       "        <td>cube at (269.73, 107.48, 241.22)</td>\n",
       "    </tr>\n",
       "    <tr>\n",
       "        <td>1239427</td>\n",
       "        <td>cube at (94.99, 279.29, 125.82)</td>\n",
       "    </tr>\n",
       "    <tr>\n",
       "        <td>1303678</td>\n",
       "        <td>cube at (772.63, 236.89, 569.58)</td>\n",
       "    </tr>\n",
       "    <tr>\n",
       "        <td>1528575</td>\n",
       "        <td>cube at (151.68, 606.24, 573.11)</td>\n",
       "    </tr>\n",
       "    <tr>\n",
       "        <td>1936797</td>\n",
       "        <td>cube at (69.85, 505.17, 178.09)</td>\n",
       "    </tr>\n",
       "    <tr>\n",
       "        <td>2433245</td>\n",
       "        <td>cube at (288.92, 264.11, 646.56)</td>\n",
       "    </tr>\n",
       "    <tr>\n",
       "        <td>2648627</td>\n",
       "        <td>cube at (643.23, 243.64, 242.07)</td>\n",
       "    </tr>\n",
       "    <tr>\n",
       "        <td>2837924</td>\n",
       "        <td>cube at (191.09, 523.92, 244.39)</td>\n",
       "    </tr>\n",
       "</table>"
      ],
      "text/plain": [
       "[(217519, u'cube at (498.04, 752.12, 2.34)'),\n",
       " (653584, u'cube at (269.73, 107.48, 241.22)'),\n",
       " (1239427, u'cube at (94.99, 279.29, 125.82)'),\n",
       " (1303678, u'cube at (772.63, 236.89, 569.58)'),\n",
       " (1528575, u'cube at (151.68, 606.24, 573.11)'),\n",
       " (1936797, u'cube at (69.85, 505.17, 178.09)'),\n",
       " (2433245, u'cube at (288.92, 264.11, 646.56)'),\n",
       " (2648627, u'cube at (643.23, 243.64, 242.07)'),\n",
       " (2837924, u'cube at (191.09, 523.92, 244.39)')]"
      ]
     },
     "execution_count": 122,
     "metadata": {},
     "output_type": "execute_result"
    }
   ],
   "source": [
    "%%sql\n",
    "select c.id, c.name\n",
    "from cube as c,\n",
    "cube as ref\n",
    "where ref.id = (select id from cube limit 1)\n",
    "and c.id != ref.id\n",
    "and ST_3DDWithin(c.obj_geom, ST_MakePoint(ref.centroid_x, ref.centroid_y, ref.centroid_z), 1000)\n",
    "and c.obj_geom &&& ST_MakeLine(ST_MakePoint(ref.centroid_x-1000,ref.centroid_y-1000,ref.centroid_z-1000), \n",
    "                               ST_MakePoint(ref.centroid_x+1000,ref.centroid_y+1000,ref.centroid_z+1000))\n",
    ";"
   ]
  },
  {
   "cell_type": "markdown",
   "metadata": {},
   "source": [
    "\"NearMe\" optimized query Execution Plan (same query as above):"
   ]
  },
  {
   "cell_type": "code",
   "execution_count": 124,
   "metadata": {
    "collapsed": false
   },
   "outputs": [
    {
     "name": "stdout",
     "output_type": "stream",
     "text": [
      "10 rows affected.\n"
     ]
    },
    {
     "data": {
      "text/html": [
       "<table>\n",
       "    <tr>\n",
       "        <th>QUERY PLAN</th>\n",
       "    </tr>\n",
       "    <tr>\n",
       "        <td>Nested Loop  (cost=10.67..413777.75 rows=1 width=42) (actual time=516.384..516.384 rows=0 loops=1)</td>\n",
       "    </tr>\n",
       "    <tr>\n",
       "        <td>&nbsp;&nbsp;-&gt;  Seq Scan on cube ref  (cost=0.00..412501.03 rows=1 width=28) (actual time=516.383..516.383 rows=0 loops=1)</td>\n",
       "    </tr>\n",
       "    <tr>\n",
       "        <td>&nbsp;&nbsp;&nbsp;&nbsp;&nbsp;&nbsp;&nbsp;&nbsp;Filter: (id = 9626621)</td>\n",
       "    </tr>\n",
       "    <tr>\n",
       "        <td>&nbsp;&nbsp;&nbsp;&nbsp;&nbsp;&nbsp;&nbsp;&nbsp;Rows Removed by Filter: 3000001</td>\n",
       "    </tr>\n",
       "    <tr>\n",
       "        <td>&nbsp;&nbsp;-&gt;  Bitmap Heap Scan on cube c  (cost=10.67..1276.71 rows=1 width=898) (never executed)</td>\n",
       "    </tr>\n",
       "    <tr>\n",
       "        <td>&nbsp;&nbsp;&nbsp;&nbsp;&nbsp;&nbsp;&nbsp;&nbsp;Recheck Cond: (obj_geom &amp;&amp; st_expand(st_makepoint(ref.centroid_x, ref.centroid_y, ref.centroid_z), 1000::double precision))</td>\n",
       "    </tr>\n",
       "    <tr>\n",
       "        <td>&nbsp;&nbsp;&nbsp;&nbsp;&nbsp;&nbsp;&nbsp;&nbsp;Filter: ((id &lt;&gt; ref.id) AND (st_makepoint(ref.centroid_x, ref.centroid_y, ref.centroid_z) &amp;&amp; st_expand(obj_geom, 1000::double precision)) AND (obj_geom &amp;&amp;&amp; st_makeline(st_makepoint((ref.centroid_x - 1000::double precision), (ref.centroid_y - 1000::double precision), (ref.centroid_z - 1000::double precision)), st_makepoint((ref.centroid_x + 1000::double precision), (ref.centroid_y + 1000::double precision), (ref.centroid_z + 1000::double precision)))) AND _st_3ddwithin(obj_geom, st_makepoint(ref.centroid_x, ref.centroid_y, ref.centroid_z), 1000::double precision))</td>\n",
       "    </tr>\n",
       "    <tr>\n",
       "        <td>&nbsp;&nbsp;&nbsp;&nbsp;&nbsp;&nbsp;&nbsp;&nbsp;-&gt;  Bitmap Index Scan on cubeindex  (cost=0.00..10.67 rows=300 width=0) (never executed)</td>\n",
       "    </tr>\n",
       "    <tr>\n",
       "        <td>&nbsp;&nbsp;&nbsp;&nbsp;&nbsp;&nbsp;&nbsp;&nbsp;&nbsp;&nbsp;&nbsp;&nbsp;&nbsp;&nbsp;Index Cond: (obj_geom &amp;&amp; st_expand(st_makepoint(ref.centroid_x, ref.centroid_y, ref.centroid_z), 1000::double precision))</td>\n",
       "    </tr>\n",
       "    <tr>\n",
       "        <td>Total runtime: 516.447 ms</td>\n",
       "    </tr>\n",
       "</table>"
      ],
      "text/plain": [
       "[(u'Nested Loop  (cost=10.67..413777.75 rows=1 width=42) (actual time=516.384..516.384 rows=0 loops=1)',),\n",
       " (u'  ->  Seq Scan on cube ref  (cost=0.00..412501.03 rows=1 width=28) (actual time=516.383..516.383 rows=0 loops=1)',),\n",
       " (u'        Filter: (id = 9626621)',),\n",
       " (u'        Rows Removed by Filter: 3000001',),\n",
       " (u'  ->  Bitmap Heap Scan on cube c  (cost=10.67..1276.71 rows=1 width=898) (never executed)',),\n",
       " (u'        Recheck Cond: (obj_geom && st_expand(st_makepoint(ref.centroid_x, ref.centroid_y, ref.centroid_z), 1000::double precision))',),\n",
       " (u'        Filter: ((id <> ref.id) AND (st_makepoint(ref.centroid_x, ref.centroid_y, ref.centroid_z) && st_expand(obj_geom, 1000::double precision)) AND (obj_geom &&& st_makeline(st_makepoint((ref.centroid_x - 1000::double precision), (ref.centroid_y - 1000::double precision), (ref.centroid_z - 1000::double precision)), st_makepoint((ref.centroid_x + 1000::double precision), (ref.centroid_y + 1000::double precision), (ref.centroid_z + 1000::double precision)))) AND _st_3ddwithin(obj_geom, st_makepoint(ref.centroid_x, ref.centroid_y, ref.centroid_z), 1000::double precision))',),\n",
       " (u'        ->  Bitmap Index Scan on cubeindex  (cost=0.00..10.67 rows=300 width=0) (never executed)',),\n",
       " (u'              Index Cond: (obj_geom && st_expand(st_makepoint(ref.centroid_x, ref.centroid_y, ref.centroid_z), 1000::double precision))',),\n",
       " (u'Total runtime: 516.447 ms',)]"
      ]
     },
     "execution_count": 124,
     "metadata": {},
     "output_type": "execute_result"
    }
   ],
   "source": [
    "%%sql\n",
    "explain analyze select c.id, c.name from cube as c, cube as ref where ref.id = 9626621 and c.id != ref.id and ST_3DDWithin(c.obj_geom, ST_MakePoint(ref.centroid_x, ref.centroid_y, ref.centroid_z), 1000) and c.obj_geom &&& ST_MakeLine(ST_MakePoint(ref.centroid_x-1000,ref.centroid_y-1000,ref.centroid_z-1000),ST_MakePoint(ref.centroid_x+1000,ref.centroid_y+1000,ref.centroid_z+1000))"
   ]
  }
 ],
 "metadata": {
  "kernelspec": {
   "display_name": "Python 2",
   "language": "python",
   "name": "python2"
  },
  "language_info": {
   "codemirror_mode": {
    "name": "ipython",
    "version": 2
   },
   "file_extension": ".py",
   "mimetype": "text/x-python",
   "name": "python",
   "nbconvert_exporter": "python",
   "pygments_lexer": "ipython2",
   "version": "2.7.9"
  }
 },
 "nbformat": 4,
 "nbformat_minor": 0
}
